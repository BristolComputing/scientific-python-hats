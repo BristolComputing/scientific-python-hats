{
 "cells": [
  {
   "cell_type": "markdown",
   "metadata": {},
   "source": [
    "This notebook follows very closely the same steps done in the firstLook notebook, but uses the rootpy bindings to have  more pythonic style in your code.\n",
    "\n",
    "Straight from the beginning you can see that the I/O is dealt quite differently in rootpy, thanks to the ```root_open``` function that provides a functionality very similar to python's ```open```, which is used for text files"
   ]
  },
  {
   "cell_type": "code",
   "execution_count": null,
   "metadata": {
    "collapsed": false
   },
   "outputs": [],
   "source": [
    "from rootpy.io import root_open\n",
    "from rootpy import asrootpy\n",
    "firstLookFile = root_open('root://cmseos.fnal.gov//store/user/hats/PyRoot/2017/qcd_samples/shuffled_sig/sig_shuffled_0.root')\n",
    "#rootpy also supports the with as statement, we will see it later"
   ]
  },
  {
   "cell_type": "code",
   "execution_count": null,
   "metadata": {
    "collapsed": false
   },
   "outputs": [],
   "source": [
    "firstLookFile.ls()"
   ]
  },
  {
   "cell_type": "markdown",
   "metadata": {},
   "source": [
    "Rootpy extends the ROOT classes providing new functionalities, this means that the old ROOT methods are still available, but new ones are provided to make your life easier. For example you can acess the rootfile content with the attribute getter (the dot).\n",
    "\n",
    "You only have to be a bit careful given that rootpy does not wrap every single ROOT class, the work is still ongoing, and you can contribute! Also, using a bare ROOT method, will return a ROOT object and not a rootpy one, hence you might want to wrap the the method call with ```asrootpy()``` to convert it to a rootpy object (we will see an example later)"
   ]
  },
  {
   "cell_type": "code",
   "execution_count": null,
   "metadata": {
    "collapsed": false
   },
   "outputs": [],
   "source": [
    "hatsTree = firstLookFile.tree\n",
    "for branch in hatsTree.branches:\n",
    "  print branch.GetName()"
   ]
  },
  {
   "cell_type": "markdown",
   "metadata": {},
   "source": [
    "In rootpy there is no need to define the name and the title of the objects, unless you want to write them out on files. The system takes care of assignining an unique name and avoid clashes "
   ]
  },
  {
   "cell_type": "code",
   "execution_count": null,
   "metadata": {
    "collapsed": false
   },
   "outputs": [],
   "source": [
    "from rootpy.plotting import Canvas\n",
    "canvas = Canvas(800, 800) #no need for useless names and titles, but you can give them if you need!"
   ]
  },
  {
   "cell_type": "markdown",
   "metadata": {},
   "source": [
    "The Draw command of the TTree is overridden to allow a more pythonic interface (we will see it later) as well as it returns the histogram created, so we can play with it later on. To check how it works, simply type"
   ]
  },
  {
   "cell_type": "code",
   "execution_count": null,
   "metadata": {
    "collapsed": false
   },
   "outputs": [],
   "source": [
    "help(hatsTree.Draw)"
   ]
  },
  {
   "cell_type": "code",
   "execution_count": null,
   "metadata": {
    "collapsed": false
   },
   "outputs": [],
   "source": [
    "histo = hatsTree.Draw('jetAK4_pt')\n",
    "canvas.Draw() #jupyter trick to show the plot inline"
   ]
  },
  {
   "cell_type": "code",
   "execution_count": null,
   "metadata": {
    "collapsed": true
   },
   "outputs": [],
   "source": [
    "import ROOT\n",
    "ROOT.gStyle.SetOptStat(0)"
   ]
  },
  {
   "cell_type": "markdown",
   "metadata": {},
   "source": [
    "Histogram styling can be a significant pain and waste of time, rootpy tries to simplify the whole process providing simple access to all the drawing parameters as well as extends the definition to matplotlib-compatible markers, lines and colors. **Web colors (hexadecimal format) are also available!**"
   ]
  },
  {
   "cell_type": "code",
   "execution_count": null,
   "metadata": {
    "collapsed": false
   },
   "outputs": [],
   "source": [
    "histo.markersize = 1\n",
    "histo.markerstyle = 20\n",
    "histo.markercolor = '#336666' #supports matplotlib, hex and ROOT colors!\n",
    "histo.xaxis.title = 'p_{T} [GeV]'\n",
    "histo.yaxis.title = 'Entries'\n",
    "histo.title = 'Some nice title'\n",
    "histo.Draw()\n",
    "canvas.Draw()"
   ]
  },
  {
   "cell_type": "markdown",
   "metadata": {},
   "source": [
    "Histograms are iterable in rootpy. This means you can loop over the bins like you would loop over a list\n",
    "```python\n",
    "for hbin in histogram:\n",
    "  #do things\n",
    "  pass\n",
    "```\n",
    "\n",
    "Each bins contains information about the position (accesses through .x, .y, .z), value, error, and if it's an overflow. The content can be accessessed and written, making bin-by-bin calculations way easier."
   ]
  },
  {
   "cell_type": "code",
   "execution_count": null,
   "metadata": {
    "collapsed": false
   },
   "outputs": [],
   "source": [
    "maxbin = max(histo, key = lambda x: x.value) #the histogram is iterable\n",
    "print 'Maximum bin information:'\n",
    "print '  # entries:     ', maxbin.value\n",
    "print '  uncertainty:   ', maxbin.error\n",
    "print '  x value:       ', maxbin.x.center\n",
    "print '  x bin low edge:', maxbin.x.low"
   ]
  }
 ],
 "metadata": {
  "kernelspec": {
   "display_name": "Python 2",
   "language": "python",
   "name": "python2"
  },
  "language_info": {
   "codemirror_mode": {
    "name": "ipython",
    "version": 2
   },
   "file_extension": ".py",
   "mimetype": "text/x-python",
   "name": "python",
   "nbconvert_exporter": "python",
   "pygments_lexer": "ipython2",
   "version": "2.7.11"
  }
 },
 "nbformat": 4,
 "nbformat_minor": 2
}
