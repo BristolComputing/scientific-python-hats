{
 "cells": [
  {
   "cell_type": "markdown",
   "metadata": {},
   "source": [
    "This notebooks mimicks the behavior of ```sample_code/runHatsTrees.py``` to showcase few more nice features of rootpy, but the major downside of a somewhat slower performance with respect to a pure C++ implementation. Nonetheless this approach is very usefule when a limited amount of data is involved\n",
    "\n",
    "We will use ROOT's TStopwatch to evaluate the performance of the code"
   ]
  },
  {
   "cell_type": "code",
   "execution_count": 3,
   "metadata": {
    "collapsed": false
   },
   "outputs": [],
   "source": [
    "from rootpy.io import root_open\n",
    "from rootpy.tree import Tree\n",
    "from rootpy.vector import LorentzVector\n",
    "from ROOT import TStopwatch, TLorentzVector"
   ]
  },
  {
   "cell_type": "code",
   "execution_count": 4,
   "metadata": {
    "collapsed": true
   },
   "outputs": [],
   "source": [
    "tfile = root_open('root://cmseos.fnal.gov//store/user/hats/PyRoot/2017/qcd_samples/shuffled_sig/sig_shuffled_0.root')\n",
    "tree = tfile.tree\n",
    "tree.SetBranchStatus(\"*\",0)\n",
    "for name in [\"jetAK4_pt\", 'jetAK4_eta', \"jetAK4_mass\", \"jetAK4_phi\",\n",
    "             \"jetAK4_e\", \"jetAK4_jec\", \"jetAK4_IDLoose\"]:\n",
    "    tree.SetBranchStatus(name, 1)"
   ]
  },
  {
   "cell_type": "markdown",
   "metadata": {},
   "source": [
    "rootpy redefines the way TTrees are defined filled, allowing an easier and more pythonic syntax "
   ]
  },
  {
   "cell_type": "code",
   "execution_count": 18,
   "metadata": {
    "collapsed": false
   },
   "outputs": [],
   "source": [
    "hatsDijetsFile = root_open('output.root', \"RECREATE\") # also 'w', like with normal files works\n",
    "hatsDijetsTree = Tree(\"hatsDijets\") #the title is assigned automatically \n",
    "hatsDijetsTree.create_branches({\n",
    "    'leadingEta' : 'F',\n",
    "    'subleadingEta' : 'F',\n",
    "    'cosThetaStar' : 'F',\n",
    "    'dijetEtBalance' : 'F',\n",
    "    'dijetMass' : 'F',\n",
    "})\n",
    "\n",
    "clock = TStopwatch()\n",
    "clock.Start()\n",
    "leadingJet    = LorentzVector()\n",
    "subleadingJet = LorentzVector()\n",
    "evaluated = 0\n",
    "for entry in tree:\n",
    "    evaluated += 1\n",
    "    leadingJet.SetPtEtaPhiE(\n",
    "        entry.jetAK4_pt[0], \n",
    "        entry.jetAK4_eta[0], \n",
    "        entry.jetAK4_phi[0], \n",
    "        entry.jetAK4_e[0]\n",
    "    )\n",
    "    subleadingJet.SetPtEtaPhiE(\n",
    "        entry.jetAK4_pt[1], \n",
    "        entry.jetAK4_eta[1], \n",
    "        entry.jetAK4_phi[1], \n",
    "        entry.jetAK4_e[1]\n",
    "    )\n",
    "      \n",
    "    hatsDijetsTree.leadingEta = leadingJet.Eta()\n",
    "    hatsDijetsTree.subleadingEta = subleadingJet.Eta()\n",
    "    dijet = leadingJet + subleadingJet\n",
    "    hatsDijetsTree.dijetMass = dijet.M()\n",
    "    hatsDijetsTree.dijetEtBalance = subleadingJet.Et() / leadingJet.Et()\n",
    "    boostedLeading = leadingJet\n",
    "    boostedLeading.Boost(-(dijet.BoostVector()))\n",
    "    hatsDijetsTree.cosThetaStar = boostedLeading.Pz()/boostedLeading.P()\n",
    "    hatsDijetsTree.fill()\n",
    "hatsDijetsFile.cd()\n",
    "hatsDijetsTree.write()\n",
    "hatsDijetsFile.close()\n",
    "clock.Stop()"
   ]
  },
  {
   "cell_type": "markdown",
   "metadata": {},
   "source": [
    "Now, let's see how our code performs"
   ]
  },
  {
   "cell_type": "code",
   "execution_count": 19,
   "metadata": {
    "collapsed": false
   },
   "outputs": [
    {
     "name": "stdout",
     "output_type": "stream",
     "text": [
      "Tree loop profiling stats:\n",
      "# entries examined: 16921\n",
      "Real Time used: 3.54225492477 (per event: 0.00021)\n",
      "CPU Time used: 3.81 (per event: 0.00023)\n"
     ]
    }
   ],
   "source": [
    "print 'Tree loop profiling stats:'\n",
    "print '# entries examined:', evaluated\n",
    "print 'Real Time used:', clock.RealTime(), '(per event: %.5f)' % (clock.RealTime()/evaluated)\n",
    "print 'CPU Time used:', clock.CpuTime(), '(per event: %.5f)' % (clock.CpuTime()/evaluated)"
   ]
  },
  {
   "cell_type": "markdown",
   "metadata": {},
   "source": [
    "You can see that we defined the lorentz vectors outside the for loop, this is done because LorentzVector creation is an intensive process in ROOT, rootpy makes it way faster! \n",
    "Try to re-run the two previous code blocks with the following changes:\n",
    "   * move the LorentzVectors inside the for loop\n",
    "   * replace rootpy's LorentzVectors with ROOT's TLorentzVector (inside and outside the for loop)\n",
    "And see how the code performance changes"
   ]
  }
 ],
 "metadata": {
  "kernelspec": {
   "display_name": "Python 2",
   "language": "python",
   "name": "python2"
  },
  "language_info": {
   "codemirror_mode": {
    "name": "ipython",
    "version": 2
   },
   "file_extension": ".py",
   "mimetype": "text/x-python",
   "name": "python",
   "nbconvert_exporter": "python",
   "pygments_lexer": "ipython2",
   "version": "2.7.11"
  }
 },
 "nbformat": 4,
 "nbformat_minor": 2
}
