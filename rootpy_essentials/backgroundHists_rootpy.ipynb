{
 "cells": [
  {
   "cell_type": "markdown",
   "metadata": {},
   "source": [
    "This notebook follows closely the procedure of ```backgroundHists```, but stores the histograms in a different way to showcase the rootpy views system"
   ]
  },
  {
   "cell_type": "code",
   "execution_count": null,
   "metadata": {
    "collapsed": false
   },
   "outputs": [],
   "source": [
    "from rootpy.io import root_open\n",
    "from rootpy.tree import TreeChain\n",
    "from rootpy.plotting import Hist, HistStack, Canvas, views, Legend\n",
    "import ROOT\n",
    "from glob import glob\n",
    "ROOT.gStyle.SetOptStat(0)\n",
    "ROOT.TH1.AddDirectory(False)"
   ]
  },
  {
   "cell_type": "markdown",
   "metadata": {},
   "source": [
    "Now, let's create the histogram templates to have consistent binnings across the samples. Rootpy makes very easy to create simple histograms as well as variable-binning ones"
   ]
  },
  {
   "cell_type": "code",
   "execution_count": null,
   "metadata": {
    "collapsed": true
   },
   "outputs": [],
   "source": [
    "templates = {\n",
    "    'dijetMass' : Hist(100, 0, 100),\n",
    "    'cosThetaStar' : Hist([0, 0.2, 0.5, 0.8, 0.9, 1.])\n",
    "}"
   ]
  },
  {
   "cell_type": "markdown",
   "metadata": {},
   "source": [
    "Compute the samples weights to be used, for a more detailed description have a look at the ```backgroundHists``` notebook"
   ]
  },
  {
   "cell_type": "code",
   "execution_count": null,
   "metadata": {
    "collapsed": true
   },
   "outputs": [],
   "source": [
    "from ConfigParser import RawConfigParser\n",
    "config = RawConfigParser()   \n",
    "config.optionxform = str       # Last two lines are done because ConfigParser will not preserve case\n",
    "config.read(\"hatsConfig.ini\")\n",
    "crossSections = dict([sample, float(xsec)] for sample, xsec in config.items('hatsXsects'))\n",
    "nProcessed    = dict([sample, int(nPro)] for sample, nPro in config.items('hatsNprocessed'))\n",
    "weights = {}\n",
    "luminosity = 1.42    # This is just an example value\n",
    "for sample in crossSections.keys():\n",
    "    weights[sample] = luminosity * crossSections[sample]/nProcessed[sample]"
   ]
  },
  {
   "cell_type": "code",
   "execution_count": null,
   "metadata": {
    "collapsed": false
   },
   "outputs": [],
   "source": [
    "with root_open('histograms.root', 'w') as outfile:\n",
    "    for sample in weights:\n",
    "        print 'creating histograms for', sample\n",
    "        sample_dir = outfile.mkdir(sample)\n",
    "        sample_dir.cd()\n",
    "        #get all the root files in the direcotry\n",
    "        chain = TreeChain(\n",
    "            'hatsDijets',\n",
    "            filter(None,popen(\"xrdfs root://cmseos.fnal.gov/ ls -u /store/user/hats/PyRoot/2017/hatsDijetTrees/hatsTrees_%s/\" % sample).read().split('\\n'))\n",
    "        )\n",
    "        for varname, template in templates.iteritems():\n",
    "            out_hist = chain.Draw(varname, hist=template.Clone())\n",
    "            sample_dir.WriteTObject(out_hist, varname)"
   ]
  },
  {
   "cell_type": "markdown",
   "metadata": {},
   "source": [
    "Many times, we have a ROOT file with a set of histograms that we want to treat consistently (same names, titles, scaling, etc...). Rootpy's views help dealing with it. A view is the extension of a directory/TFile containing histograms on which we want to apply some pre-processing, each view define the type of preprocessing (StyleView, TitleView, SubdirectoryView, SumView, etc...). Views can chained to obtain the desired effect. You can obtain the histogram from any view by calling the ```Get``` method, like on a TFile."
   ]
  },
  {
   "cell_type": "code",
   "execution_count": null,
   "metadata": {
    "collapsed": true
   },
   "outputs": [],
   "source": [
    "histo_file = root_open('histograms.root')\n",
    "QCD_HT500to700 = views.StyleView(\n",
    "    views.TitleView(\n",
    "        views.ScaleView(\n",
    "            histo_file.QCD_HT500to700, #input directory\n",
    "            weights['QCD_HT500to700']\n",
    "        ),\n",
    "        'QCD_HT500to700' #the title\n",
    "    ),\n",
    "    fillstyle = 'solid',\n",
    "    drawstyle = 'hist', #how do we want to draw it, by default\n",
    "    fillcolor = '#0067a9',\n",
    "    inlegend = True, #in case of a stack histo, do we want it in the Legend?\n",
    "    legendstyle = 'f', #how do we want the legend marker? (f,l,p)\n",
    "    linecolor = 'black',\n",
    "    linewidth = 1\n",
    "    #markerstyle ...\n",
    "    #markercolor ...\n",
    ")"
   ]
  },
  {
   "cell_type": "markdown",
   "metadata": {},
   "source": [
    "Now, each histogram will have the same pre-processing"
   ]
  },
  {
   "cell_type": "code",
   "execution_count": null,
   "metadata": {
    "collapsed": false
   },
   "outputs": [],
   "source": [
    "canvas = Canvas(800, 800)\n",
    "htemp = QCD_HT500to700.Get('dijetMass')\n",
    "htemp.Draw()\n",
    "canvas.Draw()"
   ]
  },
  {
   "cell_type": "code",
   "execution_count": null,
   "metadata": {
    "collapsed": false
   },
   "outputs": [],
   "source": [
    "htemp = QCD_HT500to700.Get('cosThetaStar')\n",
    "htemp.Draw()\n",
    "canvas.Draw()"
   ]
  },
  {
   "cell_type": "markdown",
   "metadata": {},
   "source": [
    "Now, complete the exercise making a set of stack plots, either using rootpy's HistStack or views.StackView"
   ]
  },
  {
   "cell_type": "code",
   "execution_count": null,
   "metadata": {
    "collapsed": true
   },
   "outputs": [],
   "source": []
  }
 ],
 "metadata": {
  "kernelspec": {
   "display_name": "Python 2",
   "language": "python",
   "name": "python2"
  },
  "language_info": {
   "codemirror_mode": {
    "name": "ipython",
    "version": 2
   },
   "file_extension": ".py",
   "mimetype": "text/x-python",
   "name": "python",
   "nbconvert_exporter": "python",
   "pygments_lexer": "ipython2",
   "version": "2.7.11"
  }
 },
 "nbformat": 4,
 "nbformat_minor": 2
}
