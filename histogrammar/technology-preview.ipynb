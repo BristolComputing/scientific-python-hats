{
 "cells": [
  {
   "cell_type": "markdown",
   "metadata": {},
   "source": [
    "# Technology preview: Femtocode\n",
    "\n",
    "Although it was the focus of today's tutorials, Histogrammar is not an end in itself. It's part of a larger system in development to replace private skims with a query system.\n",
    "\n",
    "The idea is that all the big data resides on a server, like MiniAOD in EOS, and instead of downloading skims for interactive analysis, you (the physicists) perform analyses directly on the central server by submitting queries and getting results as aggregations.\n",
    "\n",
    "Of course, it has to be considerably faster than current Grid jobs. You have to get each plot back in seconds (or less) to be productive. Some early work shows that this is possible: [see talk](https://indico.cern.ch/event/630641/)).\n",
    "\n",
    "The query system wouldn't accept C++ strings, as in our examples today, but a new query language called Femtocode. The \"femto\" refers to the fact that it's intended for tiny snippets. This query language is both\n",
    "\n",
    "   * more high-level than C++, having a Pythonic syntax apart from simplified function declarations (you don't have to type \"`lambda`\")\n",
    "   * and faster than the equivalent C++, because it has additional constraints. It's only used for querying, after all, not application development.\n",
    "\n",
    "The example below shows what this would look like. The cell doesn't function (don't try to evaluate it), but the plot shown below it was generated from real Femtocode. (4.5x faster than objects-on-heap C++, should be 20x.)"
   ]
  },
  {
   "cell_type": "code",
   "execution_count": null,
   "metadata": {
    "collapsed": true
   },
   "outputs": [],
   "source": [
    "from femtocode.remote import RemoteSession\n",
    "\n",
    "session = RemoteSession(\"http://doesnt.exist.yet.fnal.gov\")\n",
    "\n",
    "workflow = session.source(\"ZZ_13TeV_pythia8\")            # pull from a named dataset\n",
    "       .define(goodmuons = \"muons.filter($1.pt > 5)\")    # muons with pt > 5 are good\n",
    "       .filter(\"goodmuons.size >= 2\")                    # keep events with at least two\n",
    "       .define(dimuon = \"\"\"\n",
    "           mu1, mu2 = goodmuons.maxby($1.pt, 2);         # pick the top two by pt\n",
    "           energy = mu1.E + mu2.E;                       # compute imploded energy/momentum\n",
    "           px = mu1.px + mu2.px;\n",
    "           py = mu1.py + mu2.py;\n",
    "           pz = mu1.pz + mu2.pz;\n",
    "\n",
    "           rec(mass = sqrt(energy**2 - px**2 - py**2 - pz**2),\n",
    "               pt = sqrt(px**2 + py**2),\n",
    "               phi = atan2(py, px),\n",
    "               eta = log((energy + pz)/(energy - pz))/2) # construct a record as output\n",
    "           \"\"\")\n",
    "       .bundle(                                          # make a bundle of plots (Histogrammar 2.0)\n",
    "           mass = bin(120, 60, 120, \"dimuon.mass\"),      # using the variables we’ve made\n",
    "           pt = bin(100, 0, 100, \"dimuon.pt\"),\n",
    "           eta = bin(100, -5, 5, \"dimuon.eta\"),\n",
    "           phi = bin(314, 0, 2*pi, \"dimuon.phi + pi\"),\n",
    "           muons = loop(\"goodmuons\", \"mu\", bundle(       # also make plots with one muon per entry\n",
    "               pt = bin(100, 0, 100, \"mu.pt\"),\n",
    "               eta = bin(100, -5, 5, \"mu.eta\"),\n",
    "               phi = bin(314, -pi, pi, \"mu.phi\")\n",
    "           ))\n",
    "       )\n",
    "\n",
    "pending = workflow.submit()                              # submit the query\n",
    "pending[\"mass\"].plot()                                   # and plot results while they accumulate\n",
    "pending[\"muons\"][\"pt\"].plot()                            # (they’ll be animated)\n",
    "\n",
    "blocking = pending.await()                               # stop the code until the result is in\n",
    "\n",
    "massplot = blocking.plot.root(\"dimuon mass [GeV]\")       # convert to a familiar format, like ROOT\n",
    "massplot.Draw()                                          # and use that package’s tools"
   ]
  },
  {
   "cell_type": "markdown",
   "metadata": {},
   "source": [
    "![](c1.png)"
   ]
  },
  {
   "cell_type": "markdown",
   "metadata": {},
   "source": [
    "For more, see the README on the [Femtocode GitHub page](https://github.com/diana-hep/femtocode)."
   ]
  },
  {
   "cell_type": "markdown",
   "metadata": {},
   "source": [
    "# A real test\n",
    "\n",
    "You can download a current snapshot to try some real tests."
   ]
  },
  {
   "cell_type": "code",
   "execution_count": 1,
   "metadata": {
    "collapsed": false
   },
   "outputs": [
    {
     "name": "stdout",
     "output_type": "stream",
     "text": [
      "--2017-04-24 10:27:06--  https://github.com/diana-hep/femtocode/archive/0.0.1-lpc-hats-2017.tar.gz\n",
      "Resolving github.com... 192.30.253.113, 192.30.253.112\n",
      "Connecting to github.com|192.30.253.113|:443... connected.\n",
      "HTTP request sent, awaiting response... 302 Found\n",
      "Location: https://codeload.github.com/diana-hep/femtocode/tar.gz/0.0.1-lpc-hats-2017 [following]\n",
      "--2017-04-24 10:27:06--  https://codeload.github.com/diana-hep/femtocode/tar.gz/0.0.1-lpc-hats-2017\n",
      "Resolving codeload.github.com... 192.30.253.120, 192.30.253.121\n",
      "Connecting to codeload.github.com|192.30.253.120|:443... connected.\n",
      "HTTP request sent, awaiting response... 200 OK\n",
      "Length: 1747448 (1.7M) [application/x-gzip]\n",
      "Saving to: `0.0.1-lpc-hats-2017.tar.gz'\n",
      "\n",
      "100%[======================================>] 1,747,448   5.27M/s   in 0.3s    \n",
      "\n",
      "2017-04-24 10:27:06 (5.27 MB/s) - `0.0.1-lpc-hats-2017.tar.gz' saved [1747448/1747448]\n",
      "\n",
      "femtocode-0.0.1-lpc-hats-2017/\n",
      "femtocode-0.0.1-lpc-hats-2017/.gitignore\n",
      "femtocode-0.0.1-lpc-hats-2017/LICENSE\n",
      "femtocode-0.0.1-lpc-hats-2017/README.md\n",
      "femtocode-0.0.1-lpc-hats-2017/docs/\n",
      "femtocode-0.0.1-lpc-hats-2017/docs/assignments-1.png\n",
      "femtocode-0.0.1-lpc-hats-2017/docs/assignments-1.svg\n",
      "femtocode-0.0.1-lpc-hats-2017/docs/assignments-2.png\n",
      "femtocode-0.0.1-lpc-hats-2017/docs/assignments-2.svg\n",
      "femtocode-0.0.1-lpc-hats-2017/docs/assignments-3.png\n",
      "femtocode-0.0.1-lpc-hats-2017/docs/assignments-3.svg\n",
      "femtocode-0.0.1-lpc-hats-2017/docs/dependencygraph.png\n",
      "femtocode-0.0.1-lpc-hats-2017/docs/dependencygraph.svg\n",
      "femtocode-0.0.1-lpc-hats-2017/docs/dependencygraph_1.png\n",
      "femtocode-0.0.1-lpc-hats-2017/docs/dependencygraph_1.svg\n",
      "femtocode-0.0.1-lpc-hats-2017/docs/dependencygraph_2.png\n",
      "femtocode-0.0.1-lpc-hats-2017/docs/dependencygraph_2.svg\n",
      "femtocode-0.0.1-lpc-hats-2017/docs/dependencygraph_3.png\n",
      "femtocode-0.0.1-lpc-hats-2017/docs/dependencygraph_3.svg\n",
      "femtocode-0.0.1-lpc-hats-2017/docs/distributed-system-simplified.pdf\n",
      "femtocode-0.0.1-lpc-hats-2017/docs/distributed-system-simplified.png\n",
      "femtocode-0.0.1-lpc-hats-2017/docs/distributed-system-simplified.svg\n",
      "femtocode-0.0.1-lpc-hats-2017/docs/event_rate_knl.png\n",
      "femtocode-0.0.1-lpc-hats-2017/docs/event_rate_knl.svg\n",
      "femtocode-0.0.1-lpc-hats-2017/docs/explode.pdf\n",
      "femtocode-0.0.1-lpc-hats-2017/docs/explode.png\n",
      "femtocode-0.0.1-lpc-hats-2017/docs/explode.svg\n",
      "femtocode-0.0.1-lpc-hats-2017/docs/flat.pdf\n",
      "femtocode-0.0.1-lpc-hats-2017/docs/flat.png\n",
      "femtocode-0.0.1-lpc-hats-2017/docs/flat.svg\n",
      "femtocode-0.0.1-lpc-hats-2017/docs/parallelism-1.png\n",
      "femtocode-0.0.1-lpc-hats-2017/docs/parallelism-1.svg\n",
      "femtocode-0.0.1-lpc-hats-2017/docs/parallelism-2.png\n",
      "femtocode-0.0.1-lpc-hats-2017/docs/parallelism-2.svg\n",
      "femtocode-0.0.1-lpc-hats-2017/docs/parallelism-3.png\n",
      "femtocode-0.0.1-lpc-hats-2017/docs/parallelism-3.svg\n",
      "femtocode-0.0.1-lpc-hats-2017/docs/parallelism-4.png\n",
      "femtocode-0.0.1-lpc-hats-2017/docs/parallelism-4.svg\n",
      "femtocode-0.0.1-lpc-hats-2017/docs/reduce.pdf\n",
      "femtocode-0.0.1-lpc-hats-2017/docs/reduce.png\n",
      "femtocode-0.0.1-lpc-hats-2017/docs/reduce.svg\n",
      "femtocode-0.0.1-lpc-hats-2017/lang/\n",
      "femtocode-0.0.1-lpc-hats-2017/lang/femtocode/\n",
      "femtocode-0.0.1-lpc-hats-2017/lang/femtocode/__init__.py\n",
      "femtocode-0.0.1-lpc-hats-2017/lang/femtocode/asts/\n",
      "femtocode-0.0.1-lpc-hats-2017/lang/femtocode/asts/__init__.py\n",
      "femtocode-0.0.1-lpc-hats-2017/lang/femtocode/asts/lispytree.py\n",
      "femtocode-0.0.1-lpc-hats-2017/lang/femtocode/asts/parsingtree.py\n",
      "femtocode-0.0.1-lpc-hats-2017/lang/femtocode/asts/statementlist.py\n",
      "femtocode-0.0.1-lpc-hats-2017/lang/femtocode/asts/typedtree.py\n",
      "femtocode-0.0.1-lpc-hats-2017/lang/femtocode/dataset.py\n",
      "femtocode-0.0.1-lpc-hats-2017/lang/femtocode/defs.py\n",
      "femtocode-0.0.1-lpc-hats-2017/lang/femtocode/execution.py\n",
      "femtocode-0.0.1-lpc-hats-2017/lang/femtocode/inference.py\n",
      "femtocode-0.0.1-lpc-hats-2017/lang/femtocode/lib/\n",
      "femtocode-0.0.1-lpc-hats-2017/lang/femtocode/lib/.cov2emacs.log\n",
      "femtocode-0.0.1-lpc-hats-2017/lang/femtocode/lib/__init__.py\n",
      "femtocode-0.0.1-lpc-hats-2017/lang/femtocode/lib/custom.py\n",
      "femtocode-0.0.1-lpc-hats-2017/lang/femtocode/lib/standard.py\n",
      "femtocode-0.0.1-lpc-hats-2017/lang/femtocode/parser.py\n",
      "femtocode-0.0.1-lpc-hats-2017/lang/femtocode/parsertable.py\n",
      "femtocode-0.0.1-lpc-hats-2017/lang/femtocode/py23.py\n",
      "femtocode-0.0.1-lpc-hats-2017/lang/femtocode/remote.py\n",
      "femtocode-0.0.1-lpc-hats-2017/lang/femtocode/testdataset.py\n",
      "femtocode-0.0.1-lpc-hats-2017/lang/femtocode/thirdparty/\n",
      "femtocode-0.0.1-lpc-hats-2017/lang/femtocode/thirdparty/__init__.py\n",
      "femtocode-0.0.1-lpc-hats-2017/lang/femtocode/thirdparty/meta/\n",
      "femtocode-0.0.1-lpc-hats-2017/lang/femtocode/thirdparty/meta/LICENSE\n",
      "femtocode-0.0.1-lpc-hats-2017/lang/femtocode/thirdparty/meta/__init__.py\n",
      "femtocode-0.0.1-lpc-hats-2017/lang/femtocode/thirdparty/meta/asttools/\n",
      "femtocode-0.0.1-lpc-hats-2017/lang/femtocode/thirdparty/meta/asttools/__init__.py\n",
      "femtocode-0.0.1-lpc-hats-2017/lang/femtocode/thirdparty/meta/asttools/mutators/\n",
      "femtocode-0.0.1-lpc-hats-2017/lang/femtocode/thirdparty/meta/asttools/mutators/__init__.py\n",
      "femtocode-0.0.1-lpc-hats-2017/lang/femtocode/thirdparty/meta/asttools/mutators/prune_mutator.py\n",
      "femtocode-0.0.1-lpc-hats-2017/lang/femtocode/thirdparty/meta/asttools/mutators/remove_trivial.py\n",
      "femtocode-0.0.1-lpc-hats-2017/lang/femtocode/thirdparty/meta/asttools/mutators/replace_mutator.py\n",
      "femtocode-0.0.1-lpc-hats-2017/lang/femtocode/thirdparty/meta/asttools/visitors/\n",
      "femtocode-0.0.1-lpc-hats-2017/lang/femtocode/thirdparty/meta/asttools/visitors/__init__.py\n",
      "femtocode-0.0.1-lpc-hats-2017/lang/femtocode/thirdparty/meta/asttools/visitors/cond_symbol_visitor.py\n",
      "femtocode-0.0.1-lpc-hats-2017/lang/femtocode/thirdparty/meta/asttools/visitors/copy_tree.py\n",
      "femtocode-0.0.1-lpc-hats-2017/lang/femtocode/thirdparty/meta/asttools/visitors/graph_visitor.py\n",
      "femtocode-0.0.1-lpc-hats-2017/lang/femtocode/thirdparty/meta/asttools/visitors/print_visitor.py\n",
      "femtocode-0.0.1-lpc-hats-2017/lang/femtocode/thirdparty/meta/asttools/visitors/pysourcegen.py\n",
      "femtocode-0.0.1-lpc-hats-2017/lang/femtocode/thirdparty/meta/asttools/visitors/symbol_visitor.py\n",
      "femtocode-0.0.1-lpc-hats-2017/lang/femtocode/thirdparty/meta/bytecodetools/\n",
      "femtocode-0.0.1-lpc-hats-2017/lang/femtocode/thirdparty/meta/bytecodetools/__init__.py\n",
      "femtocode-0.0.1-lpc-hats-2017/lang/femtocode/thirdparty/meta/bytecodetools/bytecode_consumer.py\n",
      "femtocode-0.0.1-lpc-hats-2017/lang/femtocode/thirdparty/meta/bytecodetools/disassembler_.py\n",
      "femtocode-0.0.1-lpc-hats-2017/lang/femtocode/thirdparty/meta/bytecodetools/instruction.py\n",
      "femtocode-0.0.1-lpc-hats-2017/lang/femtocode/thirdparty/meta/bytecodetools/print_code.py\n",
      "femtocode-0.0.1-lpc-hats-2017/lang/femtocode/thirdparty/meta/bytecodetools/pyc_file.py\n",
      "femtocode-0.0.1-lpc-hats-2017/lang/femtocode/thirdparty/meta/decompiler/\n",
      "femtocode-0.0.1-lpc-hats-2017/lang/femtocode/thirdparty/meta/decompiler/__init__.py\n",
      "femtocode-0.0.1-lpc-hats-2017/lang/femtocode/thirdparty/meta/decompiler/control_flow_instructions.py\n",
      "femtocode-0.0.1-lpc-hats-2017/lang/femtocode/thirdparty/meta/decompiler/disassemble.py\n",
      "femtocode-0.0.1-lpc-hats-2017/lang/femtocode/thirdparty/meta/decompiler/instructions.py\n",
      "femtocode-0.0.1-lpc-hats-2017/lang/femtocode/thirdparty/meta/decompiler/recompile.py\n",
      "femtocode-0.0.1-lpc-hats-2017/lang/femtocode/thirdparty/meta/decompiler/simple_instructions.py\n",
      "femtocode-0.0.1-lpc-hats-2017/lang/femtocode/thirdparty/meta/decompiler/util.py\n",
      "femtocode-0.0.1-lpc-hats-2017/lang/femtocode/thirdparty/meta/utils.py\n",
      "femtocode-0.0.1-lpc-hats-2017/lang/femtocode/thirdparty/ply/\n",
      "femtocode-0.0.1-lpc-hats-2017/lang/femtocode/thirdparty/ply/LICENSE\n",
      "femtocode-0.0.1-lpc-hats-2017/lang/femtocode/thirdparty/ply/__init__.py\n",
      "femtocode-0.0.1-lpc-hats-2017/lang/femtocode/thirdparty/ply/lex.py\n",
      "femtocode-0.0.1-lpc-hats-2017/lang/femtocode/thirdparty/ply/yacc.py\n",
      "femtocode-0.0.1-lpc-hats-2017/lang/femtocode/typesystem.py\n",
      "femtocode-0.0.1-lpc-hats-2017/lang/femtocode/util.py\n",
      "femtocode-0.0.1-lpc-hats-2017/lang/femtocode/version.py\n",
      "femtocode-0.0.1-lpc-hats-2017/lang/femtocode/workflow.py\n",
      "femtocode-0.0.1-lpc-hats-2017/lang/generate-grammar/\n",
      "femtocode-0.0.1-lpc-hats-2017/lang/generate-grammar/actions.py\n",
      "femtocode-0.0.1-lpc-hats-2017/lang/generate-grammar/femtocode.g\n",
      "femtocode-0.0.1-lpc-hats-2017/lang/generate-grammar/grammar-to-ply.py\n",
      "femtocode-0.0.1-lpc-hats-2017/lang/setup.py\n",
      "femtocode-0.0.1-lpc-hats-2017/lang/tests/\n",
      "femtocode-0.0.1-lpc-hats-2017/lang/tests/__init__.py\n",
      "femtocode-0.0.1-lpc-hats-2017/lang/tests/test_execution.py\n",
      "femtocode-0.0.1-lpc-hats-2017/lang/tests/test_inference.py\n",
      "femtocode-0.0.1-lpc-hats-2017/lang/tests/test_libcustom.py\n",
      "femtocode-0.0.1-lpc-hats-2017/lang/tests/test_libstandard.py\n",
      "femtocode-0.0.1-lpc-hats-2017/lang/tests/test_statementlist.py\n",
      "femtocode-0.0.1-lpc-hats-2017/lang/tests/test_syntax.py\n",
      "femtocode-0.0.1-lpc-hats-2017/lang/tests/test_typeintegration.py\n",
      "femtocode-0.0.1-lpc-hats-2017/lang/tests/test_typesystem.py\n",
      "femtocode-0.0.1-lpc-hats-2017/ldrdio/\n",
      "femtocode-0.0.1-lpc-hats-2017/ldrdio/femtocode/\n",
      "femtocode-0.0.1-lpc-hats-2017/ldrdio/femtocode/__init__.py\n",
      "femtocode-0.0.1-lpc-hats-2017/ldrdio/femtocode/ldrdio/\n",
      "femtocode-0.0.1-lpc-hats-2017/ldrdio/femtocode/ldrdio/__init__.py\n",
      "femtocode-0.0.1-lpc-hats-2017/ldrdio/femtocode/ldrdio/dataset.py\n",
      "femtocode-0.0.1-lpc-hats-2017/ldrdio/femtocode/ldrdio/fetch.py\n",
      "femtocode-0.0.1-lpc-hats-2017/ldrdio/setup.py\n",
      "femtocode-0.0.1-lpc-hats-2017/ldrdio/tests/\n",
      "femtocode-0.0.1-lpc-hats-2017/ldrdio/tests/__init__.py\n",
      "femtocode-0.0.1-lpc-hats-2017/ldrdio/tests/test_direct.py\n",
      "femtocode-0.0.1-lpc-hats-2017/ldrdio/tests/test_mediated.py\n",
      "femtocode-0.0.1-lpc-hats-2017/numpyio/\n",
      "femtocode-0.0.1-lpc-hats-2017/numpyio/femtocode/\n",
      "femtocode-0.0.1-lpc-hats-2017/numpyio/femtocode/__init__.py\n",
      "femtocode-0.0.1-lpc-hats-2017/numpyio/femtocode/numpyio/\n",
      "femtocode-0.0.1-lpc-hats-2017/numpyio/femtocode/numpyio/__init__.py\n",
      "femtocode-0.0.1-lpc-hats-2017/numpyio/femtocode/numpyio/dataset.py\n",
      "femtocode-0.0.1-lpc-hats-2017/numpyio/femtocode/numpyio/fetch.py\n",
      "femtocode-0.0.1-lpc-hats-2017/numpyio/femtocode/numpyio/xrootd.py\n",
      "femtocode-0.0.1-lpc-hats-2017/numpyio/setup.py\n",
      "femtocode-0.0.1-lpc-hats-2017/rootio/\n",
      "femtocode-0.0.1-lpc-hats-2017/rootio/femtocode/\n",
      "femtocode-0.0.1-lpc-hats-2017/rootio/femtocode/__init__.py\n",
      "femtocode-0.0.1-lpc-hats-2017/rootio/femtocode/rootio/\n",
      "femtocode-0.0.1-lpc-hats-2017/rootio/femtocode/rootio/__init__.py\n",
      "femtocode-0.0.1-lpc-hats-2017/rootio/femtocode/rootio/_fastreader.cpp\n",
      "femtocode-0.0.1-lpc-hats-2017/rootio/femtocode/rootio/dataset.py\n",
      "femtocode-0.0.1-lpc-hats-2017/rootio/femtocode/rootio/declare.py\n",
      "femtocode-0.0.1-lpc-hats-2017/rootio/femtocode/rootio/fetch.py\n",
      "femtocode-0.0.1-lpc-hats-2017/rootio/femtocode/rootio/xrootd.py\n",
      "femtocode-0.0.1-lpc-hats-2017/rootio/setup.py\n",
      "femtocode-0.0.1-lpc-hats-2017/rootio/tests/\n",
      "femtocode-0.0.1-lpc-hats-2017/rootio/tests/__init__.py\n",
      "femtocode-0.0.1-lpc-hats-2017/rootio/tests/rootio/\n",
      "femtocode-0.0.1-lpc-hats-2017/rootio/tests/rootio/__init__.py\n",
      "femtocode-0.0.1-lpc-hats-2017/rootio/tests/rootio/test_declare.py\n",
      "femtocode-0.0.1-lpc-hats-2017/rootio/tests/rootio/test_fastreader.py\n",
      "femtocode-0.0.1-lpc-hats-2017/run/\n",
      "femtocode-0.0.1-lpc-hats-2017/run/femtocode/\n",
      "femtocode-0.0.1-lpc-hats-2017/run/femtocode/__init__.py\n",
      "femtocode-0.0.1-lpc-hats-2017/run/femtocode/run/\n",
      "femtocode-0.0.1-lpc-hats-2017/run/femtocode/run/__init__.py\n",
      "femtocode-0.0.1-lpc-hats-2017/run/femtocode/run/cache.py\n",
      "femtocode-0.0.1-lpc-hats-2017/run/femtocode/run/compute.py\n",
      "femtocode-0.0.1-lpc-hats-2017/run/femtocode/run/execution.py\n",
      "femtocode-0.0.1-lpc-hats-2017/run/femtocode/run/standalone.py\n",
      "femtocode-0.0.1-lpc-hats-2017/run/setup.py\n",
      "femtocode-0.0.1-lpc-hats-2017/run/tests/\n",
      "femtocode-0.0.1-lpc-hats-2017/run/tests/__init__.py\n",
      "femtocode-0.0.1-lpc-hats-2017/run/tests/run/\n",
      "femtocode-0.0.1-lpc-hats-2017/run/tests/run/__init__.py\n",
      "femtocode-0.0.1-lpc-hats-2017/run/tests/run/test_execution.py\n",
      "femtocode-0.0.1-lpc-hats-2017/run/tests/run/test_libstandard.py\n",
      "femtocode-0.0.1-lpc-hats-2017/server/\n",
      "femtocode-0.0.1-lpc-hats-2017/server/femtocode/\n",
      "femtocode-0.0.1-lpc-hats-2017/server/femtocode/__init__.py\n",
      "femtocode-0.0.1-lpc-hats-2017/server/femtocode/server/\n",
      "femtocode-0.0.1-lpc-hats-2017/server/femtocode/server/__init__.py\n",
      "femtocode-0.0.1-lpc-hats-2017/server/femtocode/server/assignment.py\n",
      "femtocode-0.0.1-lpc-hats-2017/server/femtocode/server/communication.py\n",
      "femtocode-0.0.1-lpc-hats-2017/server/femtocode/server/compute.py\n",
      "femtocode-0.0.1-lpc-hats-2017/server/femtocode/server/dispatch.py\n",
      "femtocode-0.0.1-lpc-hats-2017/server/femtocode/server/mongodb.py\n",
      "femtocode-0.0.1-lpc-hats-2017/server/scripts/\n",
      "femtocode-0.0.1-lpc-hats-2017/server/scripts/femtocode-populate\n",
      "femtocode-0.0.1-lpc-hats-2017/server/setup.py\n",
      "femtocode-0.0.1-lpc-hats-2017/tests/\n",
      "femtocode-0.0.1-lpc-hats-2017/tests/MuOnia.json\n",
      "femtocode-0.0.1-lpc-hats-2017/tests/metadataFromRoot.yaml\n",
      "femtocode-0.0.1-lpc-hats-2017/tests/xy.json\n",
      "femtocode-0.0.1-lpc-hats-2017/tests/xy.npz\n"
     ]
    }
   ],
   "source": [
    "!wget https://github.com/diana-hep/femtocode/archive/0.0.1-lpc-hats-2017.tar.gz\n",
    "!tar -xzvf 0.0.1-lpc-hats-2017.tar.gz"
   ]
  },
  {
   "cell_type": "code",
   "execution_count": 2,
   "metadata": {
    "collapsed": false
   },
   "outputs": [
    {
     "name": "stdout",
     "output_type": "stream",
     "text": [
      "Exception reporting mode: Plain\n"
     ]
    }
   ],
   "source": [
    "%xmode plain\n",
    "\n",
    "import os\n",
    "os.chdir(\"femtocode-0.0.1-lpc-hats-2017/lang\")"
   ]
  },
  {
   "cell_type": "code",
   "execution_count": 3,
   "metadata": {
    "collapsed": true
   },
   "outputs": [],
   "source": [
    "from femtocode.typesystem import *\n",
    "from femtocode.testdataset import TestSession\n",
    "from histogrammar.tutorial import cmsdata"
   ]
  },
  {
   "cell_type": "markdown",
   "metadata": {},
   "source": [
    "Below, we convert the CMS public data from objects (returned by `cmsdata.EventIterator()`) into raw arrays. The filling function takes objects and the iterator-printout displays objects, but internally, they're arrays."
   ]
  },
  {
   "cell_type": "code",
   "execution_count": 4,
   "metadata": {
    "collapsed": false
   },
   "outputs": [
    {
     "name": "stdout",
     "output_type": "stream",
     "text": [
      "ConvertedEvents(jets=[], met=met(px=10.415139198303223, py=-3.975071907043457), muons=[muons(eta=-0.8072726430285041, phi=-1.3402297501655267, pt=30.62639541708714), muons(eta=1.167566635561553, phi=1.692420486332129, pt=27.68023248209702)])\n",
      "ConvertedEvents(jets=[], met=met(px=13.8460693359375, py=-5.433445453643799), muons=[muons(eta=0.13118731817517282, phi=2.7799272554945444, pt=28.585862770896476), muons(eta=-0.022533068091126235, phi=0.9208903654472478, pt=22.591127085739817)])\n",
      "ConvertedEvents(jets=[], met=met(px=-7.185929775238037, py=5.539695739746094), muons=[muons(eta=-1.3540335633673959, phi=-0.5925778147586024, pt=46.33732663932159), muons(eta=-0.7788737577631271, phi=2.616668262237698, pt=40.2181865160263)])\n",
      "ConvertedEvents(jets=[], met=met(px=23.709537506103516, py=-24.167495727539062), muons=[muons(eta=1.7817394763050594, phi=2.156796212878752, pt=54.76000171755838), muons(eta=1.2107319411626294, phi=-0.9976059224065013, pt=36.05184624130502)])\n",
      "ConvertedEvents(jets=[], met=met(px=4.683935165405273, py=7.290733337402344), muons=[muons(eta=-1.910935882686489, phi=-2.8491063265363614, pt=26.39387372781654), muons(eta=0.39005679149193, phi=0.6041512874069352, pt=24.10417435870733)])\n",
      "ConvertedEvents(jets=[], met=met(px=13.724966049194336, py=-5.720897197723389), muons=[muons(eta=-2.3250265200454856, phi=1.6758234470385842, pt=45.166858416586), muons(eta=-2.276520707323011, phi=-1.4625803261104318, pt=41.61609310081315)])\n",
      "ConvertedEvents(jets=[jets(eta=-1.2853511627286673, mass=10.034879849373011, phi=0.8629242977205035, pt=41.49617648515141)], met=met(px=-12.390504837036133, py=12.427877426147461), muons=[muons(eta=1.2815567039120828, phi=-2.699202539233063, pt=27.405883635332106), muons(eta=1.0296074132347286, phi=-2.083301067929668, pt=25.06900661918273)])\n",
      "ConvertedEvents(jets=[], met=met(px=1.8400167226791382, py=-0.5923038125038147), muons=[muons(eta=0.40851756145128937, phi=0.9865592039952478, pt=47.623299585112214), muons(eta=0.8287709196790561, phi=-2.1584231709485953, pt=41.23659227033924)])\n",
      "ConvertedEvents(jets=[], met=met(px=-10.956795692443848, py=5.798800945281982), muons=[muons(eta=0.48120581527229245, phi=0.9191029033386054, pt=49.431580107681704), muons(eta=-0.3133250036938699, phi=-2.4465198408251987, pt=43.43925155293071)])\n",
      "ConvertedEvents(jets=[], met=met(px=-18.61488151550293, py=-14.658106803894043), muons=[muons(eta=-0.8644562387730215, phi=0.8712856111520322, pt=45.979862549498044), muons(eta=-1.7202199450380367, phi=-2.223910801303257, pt=37.016963548508755)])\n"
     ]
    }
   ],
   "source": [
    "session = TestSession()\n",
    "\n",
    "events = session.source(\"ConvertedEvents\",\n",
    "                        met = record(px = real, py = real),\n",
    "                        muons = collection(record(pt = real(0, almost(inf)),\n",
    "                                                  eta = real,\n",
    "                                                  phi = real(-pi, pi))),\n",
    "                        jets = collection(record(mass = real(0, almost(inf)),\n",
    "                                                 pt = real(0, almost(inf)),\n",
    "                                                 eta = real,\n",
    "                                                 phi = real(-pi, pi))))\n",
    "\n",
    "for event in cmsdata.EventIterator():\n",
    "    if events.dataset.numEntries >= 10: break\n",
    "    if len(event.muons) < 2: continue\n",
    "    \n",
    "    # the events.dataset.types dictionary contains namedtuples that TestDataset\n",
    "    # creates for our convenience in filling and printout, but not storage\n",
    "    met = events.dataset.types[\"met\"](px = event.met.px, py = event.met.py)\n",
    "    \n",
    "    muons = []\n",
    "    jets = []\n",
    "    for muon in event.muons:\n",
    "        muons.append(events.dataset.types[\"muons[]\"](\n",
    "                pt = muon.pt, eta = muon.eta, phi = muon.phi))\n",
    "\n",
    "    for jet in event.jets:\n",
    "        jets.append(events.dataset.types[\"jets[]\"](\n",
    "                mass = jet.mass, pt = jet.pt, eta = jet.eta, phi = jet.phi))\n",
    "    \n",
    "    events.dataset.fill({\"met\": met,\n",
    "                         \"muons\": muons,\n",
    "                         \"jets\": jets})\n",
    "\n",
    "# print them back out to be sure they were properly loaded\n",
    "for event in events.dataset:\n",
    "    print event"
   ]
  },
  {
   "cell_type": "code",
   "execution_count": 5,
   "metadata": {
    "collapsed": false
   },
   "outputs": [
    {
     "name": "stdout",
     "output_type": "stream",
     "text": [
      "jets[]-eta:\n",
      "    [-1.2853511627286673]\n",
      "    [0, 0, 0, 0, 0, 0, 1, 0, 0, 0]\n",
      "\n",
      "jets[]-mass:\n",
      "    [10.034879849373011]\n",
      "    [0, 0, 0, 0, 0, 0, 1, 0, 0, 0]\n",
      "\n",
      "jets[]-phi:\n",
      "    [0.8629242977205035]\n",
      "    [0, 0, 0, 0, 0, 0, 1, 0, 0, 0]\n",
      "\n",
      "jets[]-pt:\n",
      "    [41.49617648515141]\n",
      "    [0, 0, 0, 0, 0, 0, 1, 0, 0, 0]\n",
      "\n",
      "met-px:\n",
      "    [10.415139198303223, 13.8460693359375, -7.185929775238037, 23.709537506103516, 4.683935165405273, 13.724966049194336, -12.390504837036133, 1.8400167226791382, -10.956795692443848, -18.61488151550293]\n",
      "    None\n",
      "\n",
      "met-py:\n",
      "    [-3.975071907043457, -5.433445453643799, 5.539695739746094, -24.167495727539062, 7.290733337402344, -5.720897197723389, 12.427877426147461, -0.5923038125038147, 5.798800945281982, -14.658106803894043]\n",
      "    None\n",
      "\n",
      "muons[]-eta:\n",
      "    [-0.8072726430285041, 1.167566635561553, 0.13118731817517282, -0.022533068091126235, -1.3540335633673959, -0.7788737577631271, 1.7817394763050594, 1.2107319411626294, -1.910935882686489, 0.39005679149193, -2.3250265200454856, -2.276520707323011, 1.2815567039120828, 1.0296074132347286, 0.40851756145128937, 0.8287709196790561, 0.48120581527229245, -0.3133250036938699, -0.8644562387730215, -1.7202199450380367]\n",
      "    [2, 2, 2, 2, 2, 2, 2, 2, 2, 2]\n",
      "\n",
      "muons[]-phi:\n",
      "    [-1.3402297501655267, 1.692420486332129, 2.7799272554945444, 0.9208903654472478, -0.5925778147586024, 2.616668262237698, 2.156796212878752, -0.9976059224065013, -2.8491063265363614, 0.6041512874069352, 1.6758234470385842, -1.4625803261104318, -2.699202539233063, -2.083301067929668, 0.9865592039952478, -2.1584231709485953, 0.9191029033386054, -2.4465198408251987, 0.8712856111520322, -2.223910801303257]\n",
      "    [2, 2, 2, 2, 2, 2, 2, 2, 2, 2]\n",
      "\n",
      "muons[]-pt:\n",
      "    [30.62639541708714, 27.68023248209702, 28.585862770896476, 22.591127085739817, 46.33732663932159, 40.2181865160263, 54.76000171755838, 36.05184624130502, 26.39387372781654, 24.10417435870733, 45.166858416586, 41.61609310081315, 27.405883635332106, 25.06900661918273, 47.623299585112214, 41.23659227033924, 49.431580107681704, 43.43925155293071, 45.979862549498044, 37.016963548508755]\n",
      "    [2, 2, 2, 2, 2, 2, 2, 2, 2, 2]\n",
      "\n"
     ]
    }
   ],
   "source": [
    "# It's nice to look at them as though they were namedtuples, but inside, they're arrays.\n",
    "\n",
    "for name, segment in sorted(events.dataset.groups[0].segments.items()):\n",
    "    print \"{0}:\\n    {1}\\n    {2}\\n\".format(name, segment.data, segment.size)"
   ]
  },
  {
   "cell_type": "markdown",
   "metadata": {},
   "source": [
    "Compute something familiar."
   ]
  },
  {
   "cell_type": "code",
   "execution_count": 6,
   "metadata": {
    "collapsed": false
   },
   "outputs": [
    {
     "name": "stdout",
     "output_type": "stream",
     "text": [
      "[[0.21131600000293618, 88.94682415422474], [88.94682415422474, 0.21131600000293618]]\n",
      "[[0.21131599999910297, 40.915269530829], [40.915269530829, 0.2113160000002105]]\n",
      "[[0.2113159999835684, 89.88668022494564], [89.88668022494564, 0.21131600000293618]]\n",
      "[[0.21131599994913675, 92.50889324007548], [92.50889324007548, 0.21131600001369608]]\n",
      "[[0.21131600000939213, 87.33152271452795], [87.33152271452795, 0.21131599999970824]]\n",
      "[[0.21131600001800005, 86.73593167619306], [86.73593167619306, 0.21131600001800005]]\n",
      "[[0.21131599999648026, 17.21544038748945], [17.21544038748945, 0.2113160000007842]]\n",
      "[[0.21131600000455017, 90.594059891774], [90.594059891774, 0.21131600000724016]]\n",
      "[[0.21131600000293618, 99.54980041733651], [99.54980041733651, 0.21131599999917022]]\n",
      "[[0.21131599999648026, 90.16056408058131], [90.16056408058131, 0.2113159999835684]]\n"
     ]
    }
   ],
   "source": [
    "# Currently, the only looping capability is \".map\", which can be made into a loop over\n",
    "# pairs of muons only by doubly nesting it. In the Functional Playground terminology,\n",
    "# this is \".table\", not \".pairs\", so every output is a matrix of all pairs with the\n",
    "# diagonal being a muon combined with itself (whose combined mass is exactly 2*muon mass).\n",
    "\n",
    "# Still, this gives us a chance to compute invariant masses.\n",
    "# Please pardon our dust and noise.\n",
    "\n",
    "query = events.define(mumass = \"0.105658\") \\\n",
    "              .toPython(mass = \"\"\"\n",
    "muons.map(mu1 => muons.map({mu2 =>\n",
    "\n",
    "  p1x = mu1.pt * cos(mu1.phi);\n",
    "  p1y = mu1.pt * sin(mu1.phi);\n",
    "  p1z = mu1.pt * sinh(mu1.eta);\n",
    "  E1 = sqrt(p1x**2 + p1y**2 + p1z**2 + mumass**2);\n",
    "\n",
    "  p2x = mu2.pt * cos(mu2.phi);\n",
    "  p2y = mu2.pt * sin(mu2.phi);\n",
    "  p2z = mu2.pt * sinh(mu2.eta);\n",
    "  E2 = sqrt(p2x**2 + p2y**2 + p2z**2 + mumass**2);\n",
    "\n",
    "  px = p1x + p2x;\n",
    "  py = p1y + p2y;\n",
    "  pz = p1z + p2z;\n",
    "  E = E1 + E2;\n",
    "\n",
    "  if E**2 - px**2 - py**2 - pz**2 >= 0:\n",
    "    sqrt(E**2 - px**2 - py**2 - pz**2)\n",
    "  else:\n",
    "    None\n",
    "\n",
    "}))\n",
    "\"\"\")\n",
    "\n",
    "response = query.submit(debug = False)\n",
    "\n",
    "for event in response:\n",
    "    print event.mass"
   ]
  },
  {
   "cell_type": "markdown",
   "metadata": {},
   "source": [
    "As explained above, each output is a matrix of invariant mass of all pairs of muons: the diagonal (first and last element in these 2x2s) is the invariant mass of a muon with itself: twice the muon mass. The off-diagonals are around 90 GeV, as expected.\n",
    "\n",
    "\n",
    "# What just happened\n",
    "\n",
    "You don't see it, but some rather remarkable things just happened:\n",
    "\n",
    "   1. The Femtocode compiler examined that code block and translated the operation on objects (the high-level, physicist's view) into operations on raw arrays (for fast processing).\n",
    "   2. It split the statements into a set that only need to be in a loop over muons (the `p1x` assignment through `E2` assignment) and a set that needs to be in a loop over pairs of muons (the dimuon calculation). The intermediate values `p1x` through `E2` are computed exactly once, which is not what it would look like from the fact that their definition is in the doubly nested loop.\n",
    "   3. It required us to check that `E**2 - px**2 - py**2 - pz**2 >= 0` so that the square root would always be defined. Femtocode has no runtime errors: it will force you to write guarded code before submitting to the server.\n",
    "\n",
    "**You can see all the translation into statements and generated code if you set `debug = True`.**\n",
    "\n",
    "**You can see it complain about the square root possibly being negative if you remove the `if` and `else` parts of the last line.**\n",
    "\n",
    "When compiled with Numba (you don't have the prerequisites to do that), the compiled Femtocode runs 4.5 times faster than the following reasonable-looking C++:\n",
    "\n",
    "```\n",
    "for (int i = 0;  i < numEvents;  i++) {\n",
    "    // create muon objects from arrays\n",
    "    std::vector<Muon*> muons;\n",
    "    for (int j = 0;  j < numMuons[i];  j++) {\n",
    "        muons.push_back(new Muon(pt[muonindex], eta[muonindex], phi[muonindex]));\n",
    "        muonindex++;\n",
    "    }\n",
    "    \n",
    "    // loop over the muon objects\n",
    "    for (std::vector<Muon*>::const_iterator one = muons.begin();  one != muons.end();  ++one) {\n",
    "        for (std::vector<Muon*>::const_iterator two = muons.begin();  two != muons.end();  ++two) {\n",
    "            // compute dimuons\n",
    "        }\n",
    "    }\n",
    "    \n",
    "    // delete muon objects\n",
    "    for (std::vector<Muon*>::const_iterator muon = muons.begin();  muon != muons.end();  ++muon) {\n",
    "        delete (*muon);\n",
    "    }\n",
    "}\n",
    "```\n",
    "\n",
    "because of all the memory management involved in creating and destroying muon objects. Frameworks like CMSSW and ROOT create muon objects for your convenience, so that you can write C++ analysis code. The idea here is that you write Femtocode and let it translate that down into something primitive, so that it can just rip through the numerical arrays in memory. It makes HEP analysis look more like HPC (High Performance Computing; what fluid dynamics simulators do).\n",
    "\n",
    "**From your perspective,**\n",
    "\n",
    "   * you don't have to leave Python\n",
    "   * you don't have to think about how to optimize C++, you write in a high-level functional language\n",
    "   * it runs faster than it would have if you had written the C++\n",
    "   * it handles all the parallelization for you, distributing the query across a large cluster\n",
    "   * and if we build this right and you can get each plot in seconds/subseconds, you shouldn't have to ever skim before doing analysis.\n",
    "\n",
    "# Call for testers!\n",
    "\n",
    "I'm looking for some testers, possibly in the form of a focus group (like the ones we did last year). I'm primarily interested in making sure that the language is expressive enough to cover all your analysis needs. We might do the testing using a faked implementation, like the one in the \"Functional Playground,\" so that I can quickly change it in response to your feedback.\n",
    "\n",
    "Anyone interested? E-mail me at [pivarski@fnal.gov](mailto:pivarski@fnal.gov).\n",
    "\n",
    "# Fun with data types\n",
    "\n",
    "You might have noticed that the type of \"`phi`\" is \"`real(-pi, pi)`\". What are those numeric ranges about?"
   ]
  },
  {
   "cell_type": "code",
   "execution_count": 7,
   "metadata": {
    "collapsed": false
   },
   "outputs": [
    {
     "data": {
      "text/plain": [
       "collection(real(min=-3.14159265359, max=3.14159265359))"
      ]
     },
     "execution_count": 7,
     "metadata": {},
     "output_type": "execute_result"
    }
   ],
   "source": [
    "events.type(\"muons.map(mu => mu.phi)\")"
   ]
  },
  {
   "cell_type": "code",
   "execution_count": 8,
   "metadata": {
    "collapsed": false
   },
   "outputs": [
    {
     "data": {
      "text/plain": [
       "collection(real(min=-3.14159265359, max=almost(inf)))"
      ]
     },
     "execution_count": 8,
     "metadata": {},
     "output_type": "execute_result"
    }
   ],
   "source": [
    "events.type(\"muons.map(mu => mu.pt + mu.phi)\")"
   ]
  },
  {
   "cell_type": "code",
   "execution_count": 9,
   "metadata": {
    "collapsed": false
   },
   "outputs": [
    {
     "name": "stdout",
     "output_type": "stream",
     "text": [
      "real(min=0.479425538604, max=0.841470984808)\n",
      "real(min=0.479425538604, max=1.0)\n",
      "real(min=-1.0, max=1.0)\n"
     ]
    }
   ],
   "source": [
    "print session.source(\"Fake\", variable = real(0.5, 1.0)).type(\"sin(variable)\")\n",
    "print session.source(\"Fake\", variable = real(0.5, 2.0)).type(\"sin(variable)\")\n",
    "print session.source(\"Fake\", variable = real(0.5, 10.0)).type(\"sin(variable)\")"
   ]
  },
  {
   "cell_type": "markdown",
   "metadata": {},
   "source": [
    "It's so that the Femtocode compiler can _guarantee_ that there will be no errors at runtime. That lets us speed up the runtime code (no error checking) but it also lets you know about possible logic errors due to unconsidered cases. The numeric ranges are regarded as a part of the data type, so that things like division by zero are type errors."
   ]
  },
  {
   "cell_type": "code",
   "execution_count": 10,
   "metadata": {
    "collapsed": false
   },
   "outputs": [
    {
     "ename": "FemtocodeError",
     "evalue": "Function \"/\" does not accept arguments with the given types:\n\n    /(real,\n      real)\n\n    Indeterminate form (0 / 0) is not allowed; constrain with if-else.\n\nCheck line:col 1:0 (pos 0):\n\n    x / y\n----^\n",
     "output_type": "error",
     "traceback": [
      "Traceback \u001b[0;36m(most recent call last)\u001b[0m:\n",
      "  File \u001b[1;32m\"<ipython-input-10-0958bbe6e017>\"\u001b[0m, line \u001b[1;32m1\u001b[0m, in \u001b[1;35m<module>\u001b[0m\n    session.source(\"Fake\", x = real, y = real).type(\"x / y\")\n",
      "  File \u001b[1;32m\"femtocode/workflow.py\"\u001b[0m, line \u001b[1;32m144\u001b[0m, in \u001b[1;35mtype\u001b[0m\n    tt, _ = typedtree.build(lt, typeTable)\n",
      "  File \u001b[1;32m\"femtocode/asts/typedtree.py\"\u001b[0m, line \u001b[1;32m195\u001b[0m, in \u001b[1;35mbuild\u001b[0m\n    complain(\"Function \\\"{0}\\\" does not accept arguments with the given types:\\n\\n    {0}({1}){2}\".format(tree.fcn.name, \",\\n    {0} \".format(\" \" * len(tree.fcn.name)).join(pretty(x.schema, prefix=\"     \" + \" \" * len(tree.fcn.name)).lstrip() for x in typedargs), reason), tree.original)\n",
      "  File \u001b[1;32m\"femtocode/defs.py\"\u001b[0m, line \u001b[1;32m36\u001b[0m, in \u001b[1;35mcomplain\u001b[0m\n    return complain(message, p.source, p.pos, p.lineno, p.col_offset, p.sourceName, 1)\n",
      "\u001b[0;36m  File \u001b[0;32m\"femtocode/defs.py\"\u001b[0;36m, line \u001b[0;32m60\u001b[0;36m, in \u001b[0;35mcomplain\u001b[0;36m\u001b[0m\n\u001b[0;31m    raise FemtocodeError(out)\u001b[0m\n",
      "\u001b[0;31mFemtocodeError\u001b[0m\u001b[0;31m:\u001b[0m Function \"/\" does not accept arguments with the given types:\n\n    /(real,\n      real)\n\n    Indeterminate form (0 / 0) is not allowed; constrain with if-else.\n\nCheck line:col 1:0 (pos 0):\n\n    x / y\n----^\n\n"
     ]
    }
   ],
   "source": [
    "session.source(\"Fake\", x = real, y = real).type(\"x / y\")"
   ]
  },
  {
   "cell_type": "markdown",
   "metadata": {},
   "source": [
    "Constrain with if-else, eh? How about this?"
   ]
  },
  {
   "cell_type": "code",
   "execution_count": 11,
   "metadata": {
    "collapsed": false
   },
   "outputs": [
    {
     "data": {
      "text/plain": [
       "union(null, real)"
      ]
     },
     "execution_count": 11,
     "metadata": {},
     "output_type": "execute_result"
    }
   ],
   "source": [
    "session.source(\"Fake\", x = real, y = real).type(\"if y != 0: x / y else: None\")"
   ]
  },
  {
   "cell_type": "markdown",
   "metadata": {},
   "source": [
    "That worked, but what's `union(null, real)`? It's a way of saying that the result of this calculation could either be a number (`x/y`) or a null result (`None`). Internally, that's a `NaN`, but expressing that in the data type lets the Femtocode compiler verify that you're not putting that `NaN` into a function that expects a number:"
   ]
  },
  {
   "cell_type": "code",
   "execution_count": 12,
   "metadata": {
    "collapsed": false
   },
   "outputs": [
    {
     "ename": "FemtocodeError",
     "evalue": "Function \"sin\" does not accept arguments with the given types:\n\n    sin(union(null, real))\n\n    The sin function can only be used on numbers.\n\nCheck line:col 1:0 (pos 0):\n\n    sin(if y != 0: x / y else: None)\n----^\n",
     "output_type": "error",
     "traceback": [
      "Traceback \u001b[0;36m(most recent call last)\u001b[0m:\n",
      "  File \u001b[1;32m\"<ipython-input-12-9a8b2393f248>\"\u001b[0m, line \u001b[1;32m1\u001b[0m, in \u001b[1;35m<module>\u001b[0m\n    session.source(\"Fake\", x = real, y = real).type(\"sin(if y != 0: x / y else: None)\")\n",
      "  File \u001b[1;32m\"femtocode/workflow.py\"\u001b[0m, line \u001b[1;32m144\u001b[0m, in \u001b[1;35mtype\u001b[0m\n    tt, _ = typedtree.build(lt, typeTable)\n",
      "  File \u001b[1;32m\"femtocode/asts/typedtree.py\"\u001b[0m, line \u001b[1;32m195\u001b[0m, in \u001b[1;35mbuild\u001b[0m\n    complain(\"Function \\\"{0}\\\" does not accept arguments with the given types:\\n\\n    {0}({1}){2}\".format(tree.fcn.name, \",\\n    {0} \".format(\" \" * len(tree.fcn.name)).join(pretty(x.schema, prefix=\"     \" + \" \" * len(tree.fcn.name)).lstrip() for x in typedargs), reason), tree.original)\n",
      "  File \u001b[1;32m\"femtocode/defs.py\"\u001b[0m, line \u001b[1;32m36\u001b[0m, in \u001b[1;35mcomplain\u001b[0m\n    return complain(message, p.source, p.pos, p.lineno, p.col_offset, p.sourceName, 1)\n",
      "\u001b[0;36m  File \u001b[0;32m\"femtocode/defs.py\"\u001b[0;36m, line \u001b[0;32m60\u001b[0;36m, in \u001b[0;35mcomplain\u001b[0;36m\u001b[0m\n\u001b[0;31m    raise FemtocodeError(out)\u001b[0m\n",
      "\u001b[0;31mFemtocodeError\u001b[0m\u001b[0;31m:\u001b[0m Function \"sin\" does not accept arguments with the given types:\n\n    sin(union(null, real))\n\n    The sin function can only be used on numbers.\n\nCheck line:col 1:0 (pos 0):\n\n    sin(if y != 0: x / y else: None)\n----^\n\n"
     ]
    }
   ],
   "source": [
    "session.source(\"Fake\", x = real, y = real).type(\"sin(if y != 0: x / y else: None)\")"
   ]
  },
  {
   "cell_type": "markdown",
   "metadata": {},
   "source": [
    "This prevents a `NaN` from spreading through your code, infecting everything it touches, making it very difficult to figure out where the error first happened, and of course requiring a re-run over all the data. Caught as a data type, it never even _starts_ running.\n",
    "\n",
    "Incidentally, what's the type of `y` _inside_ the if-block?"
   ]
  },
  {
   "cell_type": "code",
   "execution_count": 13,
   "metadata": {
    "collapsed": false
   },
   "outputs": [
    {
     "data": {
      "text/plain": [
       "union(null, real(min=almost(-inf), max=almost(0.0)), real(min=almost(0.0), max=almost(inf)))"
      ]
     },
     "execution_count": 13,
     "metadata": {},
     "output_type": "execute_result"
    }
   ],
   "source": [
    "session.source(\"Fake\", x = real, y = real).type(\"if y != 0: y else: None\")"
   ]
  },
  {
   "cell_type": "markdown",
   "metadata": {},
   "source": [
    "It's the open interval from minus infinity to zero union the open interval from zero to infinity of course. (\"Almost\" means an open endpoint.)\n",
    "\n",
    "You can also have closed endpoints:"
   ]
  },
  {
   "cell_type": "code",
   "execution_count": 14,
   "metadata": {
    "collapsed": false
   },
   "outputs": [
    {
     "data": {
      "text/plain": [
       "extended"
      ]
     },
     "execution_count": 14,
     "metadata": {},
     "output_type": "execute_result"
    }
   ],
   "source": [
    "session.source(\"Fake\", x = real(-inf, inf)).type(\"x\")"
   ]
  },
  {
   "cell_type": "markdown",
   "metadata": {},
   "source": [
    "That's the extended reals: the set of real numbers including infinity. Some operations are happy to accept infinity as a possible argument,"
   ]
  },
  {
   "cell_type": "code",
   "execution_count": 15,
   "metadata": {
    "collapsed": false
   },
   "outputs": [
    {
     "data": {
      "text/plain": [
       "extended(min=0, max=inf)"
      ]
     },
     "execution_count": 15,
     "metadata": {},
     "output_type": "execute_result"
    }
   ],
   "source": [
    "session.source(\"Fake\", x = real(-inf, inf)).type(\"x**2\")"
   ]
  },
  {
   "cell_type": "markdown",
   "metadata": {},
   "source": [
    "Some are not."
   ]
  },
  {
   "cell_type": "code",
   "execution_count": 16,
   "metadata": {
    "collapsed": false
   },
   "outputs": [
    {
     "ename": "FemtocodeError",
     "evalue": "Function \"sin\" does not accept arguments with the given types:\n\n    sin(extended)\n\n    The sin function cannot be used on intervals that include to infinity (though almost(-inf) and almost(inf) are okay).\n\nCheck line:col 1:0 (pos 0):\n\n    sin(x)\n----^\n",
     "output_type": "error",
     "traceback": [
      "Traceback \u001b[0;36m(most recent call last)\u001b[0m:\n",
      "  File \u001b[1;32m\"<ipython-input-16-99c62751c2cf>\"\u001b[0m, line \u001b[1;32m1\u001b[0m, in \u001b[1;35m<module>\u001b[0m\n    session.source(\"Fake\", x = real(-inf, inf)).type(\"sin(x)\")\n",
      "  File \u001b[1;32m\"femtocode/workflow.py\"\u001b[0m, line \u001b[1;32m144\u001b[0m, in \u001b[1;35mtype\u001b[0m\n    tt, _ = typedtree.build(lt, typeTable)\n",
      "  File \u001b[1;32m\"femtocode/asts/typedtree.py\"\u001b[0m, line \u001b[1;32m195\u001b[0m, in \u001b[1;35mbuild\u001b[0m\n    complain(\"Function \\\"{0}\\\" does not accept arguments with the given types:\\n\\n    {0}({1}){2}\".format(tree.fcn.name, \",\\n    {0} \".format(\" \" * len(tree.fcn.name)).join(pretty(x.schema, prefix=\"     \" + \" \" * len(tree.fcn.name)).lstrip() for x in typedargs), reason), tree.original)\n",
      "  File \u001b[1;32m\"femtocode/defs.py\"\u001b[0m, line \u001b[1;32m36\u001b[0m, in \u001b[1;35mcomplain\u001b[0m\n    return complain(message, p.source, p.pos, p.lineno, p.col_offset, p.sourceName, 1)\n",
      "\u001b[0;36m  File \u001b[0;32m\"femtocode/defs.py\"\u001b[0;36m, line \u001b[0;32m60\u001b[0;36m, in \u001b[0;35mcomplain\u001b[0;36m\u001b[0m\n\u001b[0;31m    raise FemtocodeError(out)\u001b[0m\n",
      "\u001b[0;31mFemtocodeError\u001b[0m\u001b[0;31m:\u001b[0m Function \"sin\" does not accept arguments with the given types:\n\n    sin(extended)\n\n    The sin function cannot be used on intervals that include to infinity (though almost(-inf) and almost(inf) are okay).\n\nCheck line:col 1:0 (pos 0):\n\n    sin(x)\n----^\n\n"
     ]
    }
   ],
   "source": [
    "session.source(\"Fake\", x = real(-inf, inf)).type(\"sin(x)\")"
   ]
  },
  {
   "cell_type": "markdown",
   "metadata": {},
   "source": [
    "After all, is sin(inf) 0? 1? -1? Anything in between? It doesn't converge.\n",
    "\n",
    "Some of Femtocode's complaints might surprise you:"
   ]
  },
  {
   "cell_type": "code",
   "execution_count": 17,
   "metadata": {
    "collapsed": false
   },
   "outputs": [
    {
     "ename": "FemtocodeError",
     "evalue": "Function \"+\" does not accept arguments with the given types:\n\n    +(extended,\n      extended)\n\n    Indeterminate form (inf + -inf, from extended real type) is not allowed; constrain with if-else.\n\nCheck line:col 1:0 (pos 0):\n\n    x + y\n----^\n",
     "output_type": "error",
     "traceback": [
      "Traceback \u001b[0;36m(most recent call last)\u001b[0m:\n",
      "  File \u001b[1;32m\"<ipython-input-17-54bf25fa1ebb>\"\u001b[0m, line \u001b[1;32m1\u001b[0m, in \u001b[1;35m<module>\u001b[0m\n    session.source(\"Fake\", x = real(-inf, inf), y = real(-inf, inf)).type(\"x + y\")\n",
      "  File \u001b[1;32m\"femtocode/workflow.py\"\u001b[0m, line \u001b[1;32m144\u001b[0m, in \u001b[1;35mtype\u001b[0m\n    tt, _ = typedtree.build(lt, typeTable)\n",
      "  File \u001b[1;32m\"femtocode/asts/typedtree.py\"\u001b[0m, line \u001b[1;32m195\u001b[0m, in \u001b[1;35mbuild\u001b[0m\n    complain(\"Function \\\"{0}\\\" does not accept arguments with the given types:\\n\\n    {0}({1}){2}\".format(tree.fcn.name, \",\\n    {0} \".format(\" \" * len(tree.fcn.name)).join(pretty(x.schema, prefix=\"     \" + \" \" * len(tree.fcn.name)).lstrip() for x in typedargs), reason), tree.original)\n",
      "  File \u001b[1;32m\"femtocode/defs.py\"\u001b[0m, line \u001b[1;32m36\u001b[0m, in \u001b[1;35mcomplain\u001b[0m\n    return complain(message, p.source, p.pos, p.lineno, p.col_offset, p.sourceName, 1)\n",
      "\u001b[0;36m  File \u001b[0;32m\"femtocode/defs.py\"\u001b[0;36m, line \u001b[0;32m60\u001b[0;36m, in \u001b[0;35mcomplain\u001b[0;36m\u001b[0m\n\u001b[0;31m    raise FemtocodeError(out)\u001b[0m\n",
      "\u001b[0;31mFemtocodeError\u001b[0m\u001b[0;31m:\u001b[0m Function \"+\" does not accept arguments with the given types:\n\n    +(extended,\n      extended)\n\n    Indeterminate form (inf + -inf, from extended real type) is not allowed; constrain with if-else.\n\nCheck line:col 1:0 (pos 0):\n\n    x + y\n----^\n\n"
     ]
    }
   ],
   "source": [
    "session.source(\"Fake\", x = real(-inf, inf), y = real(-inf, inf)).type(\"x + y\")"
   ]
  },
  {
   "cell_type": "markdown",
   "metadata": {},
   "source": [
    "Of course! Infinity minus infinity is an indeterminate form, so adding two extended reals might include that possibility. That's easy to forget.\n",
    "\n",
    "It can be constrained by letting one end of the domain not get quite infinite."
   ]
  },
  {
   "cell_type": "code",
   "execution_count": 18,
   "metadata": {
    "collapsed": false
   },
   "outputs": [
    {
     "data": {
      "text/plain": [
       "extended(min=almost(-inf), max=inf)"
      ]
     },
     "execution_count": 18,
     "metadata": {},
     "output_type": "execute_result"
    }
   ],
   "source": [
    "session.source(\"Fake\", x = real(almost(-inf), inf), y = real(almost(-inf), inf)).type(\"x + y\")"
   ]
  },
  {
   "cell_type": "markdown",
   "metadata": {},
   "source": [
    "What about the `E**2 - px**2 - py**2 - pz**2 >= 0` in the dimuon example? Femtocode required this guard because the expression appears in a square root, and we're not allowed to take the square root of a negative number. But algebraically, this expression will never be less than twice the muon mass: why didn't Femtocode know?\n",
    "\n",
    "Because Femtocode is not a symbolic algebra system. However, symbolic algebra systems like SymPy _can_ do that sort of checking, and in the future, Femtocode will use SymPy to check the algebraic meaning of the expressions, not just the way they're written. In fact, there's a lot of unnecessary work in the dimuon example: it converts the cylindrical coordinates into cartesian coordinates before computing the mass. SymPy would collapse the expression using facts like $\\sin^2(\\phi) + \\cos^2(\\phi) = 1$ and produce much less code to compute at runtime.\n",
    "\n",
    "You can therefore focus on making the code readable, rather than fast."
   ]
  },
  {
   "cell_type": "code",
   "execution_count": null,
   "metadata": {
    "collapsed": true
   },
   "outputs": [],
   "source": []
  }
 ],
 "metadata": {
  "kernelspec": {
   "display_name": "Python 2",
   "language": "python",
   "name": "python2"
  },
  "language_info": {
   "codemirror_mode": {
    "name": "ipython",
    "version": 2
   },
   "file_extension": ".py",
   "mimetype": "text/x-python",
   "name": "python",
   "nbconvert_exporter": "python",
   "pygments_lexer": "ipython2",
   "version": "2.7.11"
  }
 },
 "nbformat": 4,
 "nbformat_minor": 1
}
