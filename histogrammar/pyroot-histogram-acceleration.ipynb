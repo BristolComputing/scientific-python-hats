{
 "cells": [
  {
   "cell_type": "markdown",
   "metadata": {},
   "source": [
    "# Histogrammar and Functional Programming HATS\n",
    "\n",
    "Last week, John and Mauro introduced PyROOT and rootpy, two Python interfaces to ROOT. Along the way, they showed some of the advantages of using a high-level scripting language for data analysis.\n",
    "\n",
    "In this tutorial, I'll be presenting Histogrammar first as a way to speed up a PyROOT analysis (John's in particular) without leaving Python, then as a general introduction to functional programming for data analysis.\n",
    "\n",
    "# Introduction: PyROOT acceleration\n",
    "\n",
    "No programming language is good at everything. John showed you how Python simplifies the organizational part of a data analysis, but for heavy number crunching, C++ is much faster. This is widely acknowledged: the Scientific Python ecosystem (which I'll be showing tomorrow) is mostly written in C++ with Pythonic bindings.\n",
    "\n",
    "John's recommendation is a good one:\n",
    "\n",
    "   * use C++ for a focused, fast routine that does one thing in a streamlined way, and\n",
    "   * use Python for everything else, gluing together the different parts of your analysis.\n",
    "\n",
    "His example used MakeClass to build a C++ iterator over TTrees, and he controlled that iterator from Python. But as you saw, generating an iterator with MakeClass, compiling it, and switching between C++ and Python is cumbersome.\n",
    "\n",
    "To motivate Histogrammar, let's see how it simplifies this bridge by letting you inject little C++ snippets in the midst of Python, for the sake of filling histograms quickly.\n",
    "\n",
    "First, we import ROOT as before."
   ]
  },
  {
   "cell_type": "code",
   "execution_count": 1,
   "metadata": {
    "collapsed": false
   },
   "outputs": [
    {
     "data": {
      "application/javascript": [
       "\n",
       "require(['notebook'],\n",
       "  function() {\n",
       "    IPython.CodeCell.config_defaults.highlight_modes['magic_text/x-c++src'] = {'reg':[/^%%cpp/]};\n",
       "    console.log(\"JupyROOT - %%cpp magic configured\");\n",
       "  }\n",
       ");\n"
      ]
     },
     "metadata": {},
     "output_type": "display_data"
    },
    {
     "name": "stdout",
     "output_type": "stream",
     "text": [
      "Welcome to JupyROOT 6.08/04\n"
     ]
    }
   ],
   "source": [
    "import time\n",
    "import ROOT\n",
    "tcanvas = ROOT.TCanvas(\"TCanvasName\", \"TCanvasTitle\", 800, 300)"
   ]
  },
  {
   "cell_type": "markdown",
   "metadata": {},
   "source": [
    "Now let's get some of John's data. We could access this directly in PyROOT using the \"root://\" file URLs, but we'll be focusing on performance and I found that performance numbers are more stable when you don't mix in network bandwidth.\n",
    "\n",
    "These files add up to 220 MB; shouldn't break your quota. If you re-run this cell, `xrdcp` will complain that the file is already there (which is fine)."
   ]
  },
  {
   "cell_type": "code",
   "execution_count": 2,
   "metadata": {
    "collapsed": false
   },
   "outputs": [
    {
     "name": "stdout",
     "output_type": "stream",
     "text": [
      "\r",
      "[16MB/22.04MB][ 72%][====================================>             ][16MB/s]  \r",
      "[22.04MB/22.04MB][100%][==================================================][22.04MB/s]  \r",
      "[22.04MB/22.04MB][100%][==================================================][22.04MB/s]  \r\n",
      "\r",
      "[16MB/22.09MB][ 72%][====================================>             ][16MB/s]  \r",
      "[22.09MB/22.09MB][100%][==================================================][22.09MB/s]  \r",
      "[22.09MB/22.09MB][100%][==================================================][22.09MB/s]  \r\n",
      "\r",
      "[16MB/22.13MB][ 72%][====================================>             ][16MB/s]  \r",
      "[22.13MB/22.13MB][100%][==================================================][22.13MB/s]  \r",
      "[22.13MB/22.13MB][100%][==================================================][22.13MB/s]  \r\n",
      "\r",
      "[16MB/22.1MB][ 72%][====================================>             ][16MB/s]  \r",
      "[22.1MB/22.1MB][100%][==================================================][22.1MB/s]  \r",
      "[22.1MB/22.1MB][100%][==================================================][22.1MB/s]  \r\n",
      "\r",
      "[16MB/22.09MB][ 72%][====================================>             ][16MB/s]  \r",
      "[22.09MB/22.09MB][100%][==================================================][22.09MB/s]  \r",
      "[22.09MB/22.09MB][100%][==================================================][22.09MB/s]  \r\n",
      "\r",
      "[16MB/22.08MB][ 72%][====================================>             ][16MB/s]  \r",
      "[22.08MB/22.08MB][100%][==================================================][22.08MB/s]  \r",
      "[22.08MB/22.08MB][100%][==================================================][22.08MB/s]  \r\n",
      "\r",
      "[16MB/22.07MB][ 72%][====================================>             ][16MB/s]  \r",
      "[22.07MB/22.07MB][100%][==================================================][22.07MB/s]  \r",
      "[22.07MB/22.07MB][100%][==================================================][22.07MB/s]  \r\n",
      "\r",
      "[16MB/22.11MB][ 72%][====================================>             ][16MB/s]  \r",
      "[22.11MB/22.11MB][100%][==================================================][22.11MB/s]  \r",
      "[22.11MB/22.11MB][100%][==================================================][22.11MB/s]  \r\n",
      "\r",
      "[16MB/22.12MB][ 72%][====================================>             ][16MB/s]  \r",
      "[22.12MB/22.12MB][100%][==================================================][22.12MB/s]  \r",
      "[22.12MB/22.12MB][100%][==================================================][22.12MB/s]  \r\n",
      "\r",
      "[16MB/22.15MB][ 72%][====================================>             ][16MB/s]  \r",
      "[22.15MB/22.15MB][100%][==================================================][22.15MB/s]  \r",
      "[22.15MB/22.15MB][100%][==================================================][22.15MB/s]  \r\n"
     ]
    }
   ],
   "source": [
    "!xrdcp root://cmseos.fnal.gov//store/user/hats/PyRoot/2017/qcd_samples/shuffled_sig/sig_shuffled_0.root .\n",
    "!xrdcp root://cmseos.fnal.gov//store/user/hats/PyRoot/2017/qcd_samples/shuffled_sig/sig_shuffled_1.root .\n",
    "!xrdcp root://cmseos.fnal.gov//store/user/hats/PyRoot/2017/qcd_samples/shuffled_sig/sig_shuffled_2.root .\n",
    "!xrdcp root://cmseos.fnal.gov//store/user/hats/PyRoot/2017/qcd_samples/shuffled_sig/sig_shuffled_3.root .\n",
    "!xrdcp root://cmseos.fnal.gov//store/user/hats/PyRoot/2017/qcd_samples/shuffled_sig/sig_shuffled_4.root .\n",
    "!xrdcp root://cmseos.fnal.gov//store/user/hats/PyRoot/2017/qcd_samples/shuffled_sig/sig_shuffled_5.root .\n",
    "!xrdcp root://cmseos.fnal.gov//store/user/hats/PyRoot/2017/qcd_samples/shuffled_sig/sig_shuffled_6.root .\n",
    "!xrdcp root://cmseos.fnal.gov//store/user/hats/PyRoot/2017/qcd_samples/shuffled_sig/sig_shuffled_7.root .\n",
    "!xrdcp root://cmseos.fnal.gov//store/user/hats/PyRoot/2017/qcd_samples/shuffled_sig/sig_shuffled_8.root .\n",
    "!xrdcp root://cmseos.fnal.gov//store/user/hats/PyRoot/2017/qcd_samples/shuffled_sig/sig_shuffled_9.root ."
   ]
  },
  {
   "cell_type": "markdown",
   "metadata": {},
   "source": [
    "Now we make a TChain of these files and take a quick look at their branches."
   ]
  },
  {
   "cell_type": "code",
   "execution_count": 2,
   "metadata": {
    "collapsed": false
   },
   "outputs": [
    {
     "data": {
      "text/plain": [
       "[<ROOT.TBranch object (\"ph_N\") at 0x5cb8ad0>,\n",
       " <ROOT.TBranchElement object (\"ph_pdgId\") at 0x5cc34f0>,\n",
       " <ROOT.TBranchElement object (\"ph_charge\") at 0x5ccb650>,\n",
       " <ROOT.TBranchElement object (\"ph_e\") at 0x5ccbd40>,\n",
       " <ROOT.TBranchElement object (\"ph_eta\") at 0x5ccc430>,\n",
       " <ROOT.TBranchElement object (\"ph_phi\") at 0x5cccb20>,\n",
       " <ROOT.TBranchElement object (\"ph_mass\") at 0x5ccd210>,\n",
       " <ROOT.TBranchElement object (\"ph_pt\") at 0x5ccd900>,\n",
       " <ROOT.TBranchElement object (\"ph_et\") at 0x5ccdff0>,\n",
       " <ROOT.TBranchElement object (\"ph_rho\") at 0x5cce6e0>,\n",
       " <ROOT.TBranchElement object (\"ph_superCluster_eta\") at 0x5ccedd0>,\n",
       " <ROOT.TBranchElement object (\"ph_superCluster_phi\") at 0x5ccf580>,\n",
       " <ROOT.TBranchElement object (\"ph_sigmaIetaIeta\") at 0x5ccfd30>,\n",
       " <ROOT.TBranchElement object (\"ph_hOverE\") at 0x5cd04e0>,\n",
       " <ROOT.TBranchElement object (\"ph_isoGamma\") at 0x5cd0bd0>,\n",
       " <ROOT.TBranchElement object (\"ph_isoCh\") at 0x5cd12c0>,\n",
       " <ROOT.TBranchElement object (\"ph_passEleVeto\") at 0x5cd19b0>,\n",
       " <ROOT.TBranchElement object (\"ph_passLooseId\") at 0x5cd2010>,\n",
       " <ROOT.TBranchElement object (\"ph_passMediumId\") at 0x5cd2760>,\n",
       " <ROOT.TBranchElement object (\"ph_passTightId\") at 0x5cd2e50>,\n",
       " <ROOT.TBranchElement object (\"ph_mvaVal\") at 0x5cd3540>,\n",
       " <ROOT.TBranchElement object (\"ph_mvaCat\") at 0x5cd3c30>,\n",
       " <ROOT.TBranch object (\"rho\") at 0x5cd4320>,\n",
       " <ROOT.TBranch object (\"jetAK4_N\") at 0x5cd6170>,\n",
       " <ROOT.TBranchElement object (\"jetAK4_pt\") at 0x5cd6690>,\n",
       " <ROOT.TBranchElement object (\"jetAK4_eta\") at 0x5cd6e60>,\n",
       " <ROOT.TBranchElement object (\"jetAK4_mass\") at 0x5cd7630>,\n",
       " <ROOT.TBranchElement object (\"jetAK4_phi\") at 0x5cd7e00>,\n",
       " <ROOT.TBranchElement object (\"jetAK4_e\") at 0x5cd85d0>,\n",
       " <ROOT.TBranchElement object (\"jetAK4_jec\") at 0x5cd8da0>,\n",
       " <ROOT.TBranchElement object (\"jetAK4_jecUp\") at 0x5cd9570>,\n",
       " <ROOT.TBranchElement object (\"jetAK4_jecDown\") at 0x5cd9d40>,\n",
       " <ROOT.TBranchElement object (\"jetAK4_IDLoose\") at 0x5cda510>,\n",
       " <ROOT.TBranchElement object (\"jetAK4_IDTight\") at 0x5cdac60>,\n",
       " <ROOT.TBranchElement object (\"jetAK4_IDTightLepVeto\") at 0x5cdb350>,\n",
       " <ROOT.TBranchElement object (\"jetAK4_charge\") at 0x5cdbb00>,\n",
       " <ROOT.TBranchElement object (\"jetAK4_csv\") at 0x5cdc270>,\n",
       " <ROOT.TBranchElement object (\"jetAK4_vtxMass\") at 0x5cdca40>,\n",
       " <ROOT.TBranchElement object (\"jetAK4_vtxNtracks\") at 0x5cdd210>,\n",
       " <ROOT.TBranchElement object (\"jetAK4_vtx3DVal\") at 0x5cddaa0>,\n",
       " <ROOT.TBranchElement object (\"jetAK4_vtx3DSig\") at 0x5cde270>,\n",
       " <ROOT.TBranchElement object (\"jetAK4_partonFlavour\") at 0x5cdea40>,\n",
       " <ROOT.TBranchElement object (\"jetAK4_hadronFlavour\") at 0x5cdf2d0>,\n",
       " <ROOT.TBranchElement object (\"jetAK4_genParton_pdgID\") at 0x5cdfb60>,\n",
       " <ROOT.TBranchElement object (\"jetAK4_nbHadrons\") at 0x5ce03f0>,\n",
       " <ROOT.TBranchElement object (\"jetAK4_ncHadrons\") at 0x5ce0c80>,\n",
       " <ROOT.TBranchElement object (\"jetAK4_jer_sf\") at 0x5ce1510>,\n",
       " <ROOT.TBranchElement object (\"jetAK4_jer_sf_up\") at 0x5ce1ce0>,\n",
       " <ROOT.TBranchElement object (\"jetAK4_jer_sf_down\") at 0x5ce2570>,\n",
       " <ROOT.TBranchElement object (\"jetAK4_jer_sigma_pt\") at 0x5ce2e00>,\n",
       " <ROOT.TBranch object (\"jetAK8_N\") at 0x5ce3690>,\n",
       " <ROOT.TBranchElement object (\"jetAK8_pt\") at 0x5ce3bb0>,\n",
       " <ROOT.TBranchElement object (\"jetAK8_eta\") at 0x5ce4340>,\n",
       " <ROOT.TBranchElement object (\"jetAK8_mass\") at 0x5ce4a70>,\n",
       " <ROOT.TBranchElement object (\"jetAK8_phi\") at 0x5ce51a0>,\n",
       " <ROOT.TBranchElement object (\"jetAK8_e\") at 0x5ce58d0>,\n",
       " <ROOT.TBranchElement object (\"jetAK8_jec\") at 0x5ce6000>,\n",
       " <ROOT.TBranchElement object (\"jetAK8_jecUp\") at 0x5ce6730>,\n",
       " <ROOT.TBranchElement object (\"jetAK8_jecDown\") at 0x5ce6e60>,\n",
       " <ROOT.TBranchElement object (\"jetAK8_IDLoose\") at 0x5ce7590>,\n",
       " <ROOT.TBranchElement object (\"jetAK8_IDTight\") at 0x5ce7c80>,\n",
       " <ROOT.TBranchElement object (\"jetAK8_IDTightLepVeto\") at 0x5ce8370>,\n",
       " <ROOT.TBranchElement object (\"jetAK8_charge\") at 0x5ce8b20>,\n",
       " <ROOT.TBranchElement object (\"jetAK8_partonFlavour\") at 0x5ce9250>,\n",
       " <ROOT.TBranchElement object (\"jetAK8_hadronFlavour\") at 0x5ce9a40>,\n",
       " <ROOT.TBranchElement object (\"jetAK8_genParton_pdgID\") at 0x5cea230>,\n",
       " <ROOT.TBranchElement object (\"jetAK8_nbHadrons\") at 0x5ceaa20>,\n",
       " <ROOT.TBranchElement object (\"jetAK8_ncHadrons\") at 0x5ceb210>,\n",
       " <ROOT.TBranchElement object (\"jetAK8_jer_sf\") at 0x5ceba00>,\n",
       " <ROOT.TBranchElement object (\"jetAK8_jer_sf_up\") at 0x5cec130>,\n",
       " <ROOT.TBranchElement object (\"jetAK8_jer_sf_down\") at 0x5cec920>,\n",
       " <ROOT.TBranchElement object (\"jetAK8_jer_sigma_pt\") at 0x5ced110>,\n",
       " <ROOT.TBranchElement object (\"jetAK8Puppi_jer_sf\") at 0x5ced900>,\n",
       " <ROOT.TBranchElement object (\"jetAK8Puppi_jer_sf_up\") at 0x5cee0f0>,\n",
       " <ROOT.TBranchElement object (\"jetAK8Puppi_jer_sf_down\") at 0x5cee8e0>,\n",
       " <ROOT.TBranchElement object (\"jetAK8Puppi_jer_sigma_pt\") at 0x5cef0d0>,\n",
       " <ROOT.TBranchElement object (\"jetAK8_Hbbtag\") at 0x5cef8c0>,\n",
       " <ROOT.TBranchElement object (\"jetAK8_csv\") at 0x5cefff0>,\n",
       " <ROOT.TBranchElement object (\"jetAK8_tau1\") at 0x5cf0720>,\n",
       " <ROOT.TBranchElement object (\"jetAK8_tau2\") at 0x5cf0e50>,\n",
       " <ROOT.TBranchElement object (\"jetAK8_tau3\") at 0x5cf1580>,\n",
       " <ROOT.TBranchElement object (\"jetAK8_pruned_mass\") at 0x5cf1cb0>,\n",
       " <ROOT.TBranchElement object (\"jetAK8_pruned_massCorr\") at 0x5cf24a0>,\n",
       " <ROOT.TBranchElement object (\"jetAK8_pruned_jec\") at 0x5cf2c90>,\n",
       " <ROOT.TBranchElement object (\"jetAK8_pruned_jecUp\") at 0x5cf3480>,\n",
       " <ROOT.TBranchElement object (\"jetAK8_pruned_jecDown\") at 0x5cf3c70>,\n",
       " <ROOT.TBranchElement object (\"jetAK8_softdrop_mass\") at 0x5cf4460>,\n",
       " <ROOT.TBranchElement object (\"jetAK8_softdrop_massCorr\") at 0x5cf4c50>,\n",
       " <ROOT.TBranchElement object (\"jetAK8_softdrop_jec\") at 0x5cf5440>,\n",
       " <ROOT.TBranchElement object (\"jetAK8_softdrop_jecUp\") at 0x5cf5c30>,\n",
       " <ROOT.TBranchElement object (\"jetAK8_softdrop_jecDown\") at 0x5cf6460>,\n",
       " <ROOT.TBranchElement object (\"jetAK8_subjet_softdrop_N\") at 0x5cf6cf0>,\n",
       " <ROOT.TBranchElement object (\"jetAK8_subjet_softdrop_pt\") at 0x5cf7540>,\n",
       " <ROOT.TBranchElement object (\"jetAK8_subjet_softdrop_eta\") at 0x5cf7e90>,\n",
       " <ROOT.TBranchElement object (\"jetAK8_subjet_softdrop_mass\") at 0x5cf87e0>,\n",
       " <ROOT.TBranchElement object (\"jetAK8_subjet_softdrop_phi\") at 0x5cf9130>,\n",
       " <ROOT.TBranchElement object (\"jetAK8_subjet_softdrop_e\") at 0x5cf9a80>,\n",
       " <ROOT.TBranchElement object (\"jetAK8_subjet_softdrop_charge\") at 0x5cfa3d0>,\n",
       " <ROOT.TBranchElement object (\"jetAK8_subjet_softdrop_genParton_pdgID\") at 0x5cfad20>,\n",
       " <ROOT.TBranchElement object (\"jetAK8_subjet_softdrop_nbHadrons\") at 0x5cfb6b0>,\n",
       " <ROOT.TBranchElement object (\"jetAK8_subjet_softdrop_ncHadrons\") at 0x5cfc040>,\n",
       " <ROOT.TBranchElement object (\"jetAK8_subjet_softdrop_partonFlavour\") at 0x5cfc9d0>,\n",
       " <ROOT.TBranchElement object (\"jetAK8_subjet_softdrop_hadronFlavour\") at 0x5cfd440>,\n",
       " <ROOT.TBranchElement object (\"jetAK8_subjet_softdrop_csv\") at 0x5cfdeb0>,\n",
       " <ROOT.TBranchElement object (\"jetAK8_puppi_pt\") at 0x5cfe800>,\n",
       " <ROOT.TBranchElement object (\"jetAK8_puppi_eta\") at 0x5cfef30>,\n",
       " <ROOT.TBranchElement object (\"jetAK8_puppi_mass\") at 0x5cff720>,\n",
       " <ROOT.TBranchElement object (\"jetAK8_puppi_phi\") at 0x5cfff10>,\n",
       " <ROOT.TBranchElement object (\"jetAK8_puppi_e\") at 0x5d00700>,\n",
       " <ROOT.TBranchElement object (\"jetAK8_puppi_pruned_mass\") at 0x5d00e30>,\n",
       " <ROOT.TBranchElement object (\"jetAK8_puppi_pruned_massCorr\") at 0x5d01550>,\n",
       " <ROOT.TBranchElement object (\"jetAK8_puppi_pruned_jec\") at 0x5d01cd0>,\n",
       " <ROOT.TBranchElement object (\"jetAK8_puppi_softdrop_mass\") at 0x5d02450>,\n",
       " <ROOT.TBranchElement object (\"jetAK8_puppi_softdrop_massCorr\") at 0x5d02ca0>,\n",
       " <ROOT.TBranchElement object (\"jetAK8_puppi_softdrop_jec\") at 0x5d03490>,\n",
       " <ROOT.TBranchElement object (\"jetAK8_puppi_tau1\") at 0x5d03c80>,\n",
       " <ROOT.TBranchElement object (\"jetAK8_puppi_tau2\") at 0x5d04470>,\n",
       " <ROOT.TBranchElement object (\"jetAK8_puppi_tau3\") at 0x5d04c60>,\n",
       " <ROOT.TBranchElement object (\"jetAK8_subjet_puppi_softdrop_N\") at 0x5d05450>,\n",
       " <ROOT.TBranchElement object (\"jetAK8_subjet_puppi_softdrop_pt\") at 0x5d05b70>,\n",
       " <ROOT.TBranchElement object (\"jetAK8_subjet_puppi_softdrop_eta\") at 0x5d06340>,\n",
       " <ROOT.TBranchElement object (\"jetAK8_subjet_puppi_softdrop_mass\") at 0x5d06b50>,\n",
       " <ROOT.TBranchElement object (\"jetAK8_subjet_puppi_softdrop_phi\") at 0x5d07360>,\n",
       " <ROOT.TBranchElement object (\"jetAK8_subjet_puppi_softdrop_e\") at 0x5d07b70>,\n",
       " <ROOT.TBranchElement object (\"jetAK8_subjet_puppi_softdrop_charge\") at 0x5d08340>,\n",
       " <ROOT.TBranchElement object (\"jetAK8_subjet_puppi_softdrop_genParton_pdgID\") at 0x5d08b50>,\n",
       " <ROOT.TBranchElement object (\"jetAK8_subjet_puppi_softdrop_nbHadrons\") at 0x5d09360>,\n",
       " <ROOT.TBranchElement object (\"jetAK8_subjet_puppi_softdrop_ncHadrons\") at 0x5d09b70>,\n",
       " <ROOT.TBranchElement object (\"jetAK8_subjet_puppi_softdrop_partonFlavour\") at 0x5d0a380>,\n",
       " <ROOT.TBranchElement object (\"jetAK8_subjet_puppi_softdrop_hadronFlavour\") at 0x5d0ab90>,\n",
       " <ROOT.TBranchElement object (\"jetAK8_subjet_puppi_softdrop_csv\") at 0x5d0b3a0>,\n",
       " <ROOT.TBranchElement object (\"jetAK8_subjet_pruned_N\") at 0x5d0bbb0>,\n",
       " <ROOT.TBranchElement object (\"jetAK8_subjet_pruned_pt\") at 0x5d0c400>,\n",
       " <ROOT.TBranchElement object (\"jetAK8_subjet_pruned_eta\") at 0x5d0cd50>,\n",
       " <ROOT.TBranchElement object (\"jetAK8_subjet_pruned_mass\") at 0x5d0d6a0>,\n",
       " <ROOT.TBranchElement object (\"jetAK8_subjet_pruned_phi\") at 0x5d0dff0>,\n",
       " <ROOT.TBranchElement object (\"jetAK8_subjet_pruned_e\") at 0x5d0e940>,\n",
       " <ROOT.TBranchElement object (\"jetAK8_subjet_pruned_charge\") at 0x5d0f290>,\n",
       " <ROOT.TBranchElement object (\"jetAK8_subjet_pruned_genParton_pdgID\") at 0x5d0fbe0>,\n",
       " <ROOT.TBranchElement object (\"jetAK8_subjet_pruned_nbHadrons\") at 0x5d10570>,\n",
       " <ROOT.TBranchElement object (\"jetAK8_subjet_pruned_ncHadrons\") at 0x5d10ec0>,\n",
       " <ROOT.TBranchElement object (\"jetAK8_subjet_pruned_partonFlavour\") at 0x5d11810>,\n",
       " <ROOT.TBranchElement object (\"jetAK8_subjet_pruned_hadronFlavour\") at 0x5d121a0>,\n",
       " <ROOT.TBranchElement object (\"jetAK8_subjet_pruned_csv\") at 0x5d12b30>,\n",
       " <ROOT.TBranchElement object (\"HLT_isFired\") at 0x5d13480>,\n",
       " <ROOT.TBranch object (\"passFilter_HBHE\") at 0x5d18780>,\n",
       " <ROOT.TBranch object (\"passFilter_HBHELoose\") at 0x5d1a6f0>,\n",
       " <ROOT.TBranch object (\"passFilter_HBHETight\") at 0x5d1acd0>,\n",
       " <ROOT.TBranch object (\"passFilter_HBHEIso\") at 0x5d1b2b0>,\n",
       " <ROOT.TBranch object (\"passFilter_CSCHalo\") at 0x5d1b890>,\n",
       " <ROOT.TBranch object (\"passFilter_CSCTightHalo2015\") at 0x5d1be70>,\n",
       " <ROOT.TBranch object (\"passFilter_HCALlaser\") at 0x5d1c450>,\n",
       " <ROOT.TBranch object (\"passFilter_ECALDeadCell\") at 0x5d1ca30>,\n",
       " <ROOT.TBranch object (\"passFilter_GoodVtx\") at 0x5d1d010>,\n",
       " <ROOT.TBranch object (\"passFilter_TrkFailure\") at 0x5d1d5f0>,\n",
       " <ROOT.TBranch object (\"passFilter_EEBadSc\") at 0x5d1dbd0>,\n",
       " <ROOT.TBranch object (\"passFilter_ECALlaser\") at 0x5d1e1b0>,\n",
       " <ROOT.TBranch object (\"passFilter_TrkPOG\") at 0x5d1e790>,\n",
       " <ROOT.TBranch object (\"passFilter_TrkPOG_manystrip\") at 0x5d1ed70>,\n",
       " <ROOT.TBranch object (\"passFilter_TrkPOG_toomanystrip\") at 0x5d1f350>,\n",
       " <ROOT.TBranch object (\"passFilter_TrkPOG_logError\") at 0x5d1f940>,\n",
       " <ROOT.TBranch object (\"passFilter_METFilters\") at 0x5d1ff20>,\n",
       " <ROOT.TBranch object (\"passFilter_CSCTightHaloTrkMuUnvetoFilter\") at 0x5d20500>,\n",
       " <ROOT.TBranch object (\"passFilter_globalTightHalo2016\") at 0x5d20b20>,\n",
       " <ROOT.TBranch object (\"passFilter_HcalStripHalo\") at 0x5d21110>,\n",
       " <ROOT.TBranch object (\"passFilter_chargedHadronTrackResolution\") at 0x5d216f0>,\n",
       " <ROOT.TBranch object (\"passFilter_muonBadTrack\") at 0x5d21d10>,\n",
       " <ROOT.TBranch object (\"EVENT_event\") at 0x5d222f0>,\n",
       " <ROOT.TBranch object (\"EVENT_run\") at 0x5d22810>,\n",
       " <ROOT.TBranch object (\"EVENT_lumiBlock\") at 0x5d22d30>,\n",
       " <ROOT.TBranch object (\"PV_N\") at 0x5d23280>,\n",
       " <ROOT.TBranch object (\"PV_filter\") at 0x5d237a0>,\n",
       " <ROOT.TBranchElement object (\"PV_chi2\") at 0x5d23cc0>,\n",
       " <ROOT.TBranchElement object (\"PV_ndof\") at 0x5d24410>,\n",
       " <ROOT.TBranchElement object (\"PV_rho\") at 0x5d24b00>,\n",
       " <ROOT.TBranchElement object (\"PV_z\") at 0x5d251f0>]"
      ]
     },
     "execution_count": 2,
     "metadata": {},
     "output_type": "execute_result"
    }
   ],
   "source": [
    "tchain = ROOT.TChain()\n",
    "tchain.Add(\"sig_shuffled_0.root/tree\")\n",
    "tchain.Add(\"sig_shuffled_1.root/tree\")\n",
    "tchain.Add(\"sig_shuffled_2.root/tree\")\n",
    "tchain.Add(\"sig_shuffled_3.root/tree\")\n",
    "tchain.Add(\"sig_shuffled_4.root/tree\")\n",
    "tchain.Add(\"sig_shuffled_5.root/tree\")\n",
    "tchain.Add(\"sig_shuffled_6.root/tree\")\n",
    "tchain.Add(\"sig_shuffled_7.root/tree\")\n",
    "tchain.Add(\"sig_shuffled_8.root/tree\")\n",
    "tchain.Add(\"sig_shuffled_9.root/tree\")\n",
    "list(tchain.GetListOfBranches())"
   ]
  },
  {
   "cell_type": "markdown",
   "metadata": {},
   "source": [
    "# This is Histogrammar\n",
    "\n",
    "Let's start with a very simple histogram fill-and-plot using Histogrammar. The next cell shows a pedestrian example of iterating over the `tchain` (in Python: slow!) and filling the histogram using a conventional interface.\n",
    "\n",
    "By \"conventional interface,\" I mean there's a `fill()` method that you call in the `for` loop on each event."
   ]
  },
  {
   "cell_type": "code",
   "execution_count": 6,
   "metadata": {
    "collapsed": false
   },
   "outputs": [
    {
     "name": "stdout",
     "output_type": "stream",
     "text": [
      "This took 24.045511961 seconds.\n"
     ]
    }
   ],
   "source": [
    "from histogrammar import *\n",
    "\n",
    "histogram = Bin(100, 0, 1000, lambda x: x)    # I'll explain this \"lambda x: x\" in a moment\n",
    "\n",
    "startTime = time.time()\n",
    "for event in tchain:\n",
    "    if event.jetAK4_N > 0:\n",
    "        histogram.fill(event.jetAK4_pt[0])\n",
    "endTime = time.time()\n",
    "\n",
    "print \"This took\", endTime - startTime, \"seconds.\""
   ]
  },
  {
   "cell_type": "markdown",
   "metadata": {},
   "source": [
    "The Histogrammar library is completely independent of ROOT— it was originally developed for use in Apache Spark— but it is capable of dumping its data to ROOT.\n",
    "\n",
    "In fact, Histogrammar has no visualization capabilities at all. It uses a variety of external libraries to draw its plots: ROOT, Matplotlib, and Bokeh (currently).\n",
    "\n",
    "(With ROOT, you have to save the result as a `roothist` that doesn't get garbage collected, or else it will disappear soon after you draw it!)"
   ]
  },
  {
   "cell_type": "code",
   "execution_count": 8,
   "metadata": {
    "collapsed": false
   },
   "outputs": [
    {
     "data": {
      "image/png": "[encoded data removed]",
      "text/plain": [
       "<IPython.core.display.Image object>"
      ]
     },
     "metadata": {},
     "output_type": "display_data"
    }
   ],
   "source": [
    "roothist = histogram.plot.root(\"roothist\", \"pt\")\n",
    "roothist.Draw()\n",
    "tcanvas.Draw()"
   ]
  },
  {
   "cell_type": "markdown",
   "metadata": {},
   "source": [
    "Internally, the Histogrammar histogram has its own representation, which is canonically expressed as JSON. There are several different language versions of Histogrammar, and they all speak the same JSON. That lets you exchange histograms made on different platforms."
   ]
  },
  {
   "cell_type": "code",
   "execution_count": 10,
   "metadata": {
    "collapsed": false
   },
   "outputs": [
    {
     "data": {
      "text/plain": [
       "{'data': {'data': {'entries': 169210.0,\n",
       "   'high': 1000.0,\n",
       "   'low': 0.0,\n",
       "   'name': 'jetAK4_pt[0]',\n",
       "   'nanflow': 0.0,\n",
       "   'nanflow:type': 'Count',\n",
       "   'overflow': 0.0,\n",
       "   'overflow:type': 'Count',\n",
       "   'underflow': 0.0,\n",
       "   'underflow:type': 'Count',\n",
       "   'values': [0.0,\n",
       "    0.0,\n",
       "    0.0,\n",
       "    0.0,\n",
       "    0.0,\n",
       "    0.0,\n",
       "    0.0,\n",
       "    0.0,\n",
       "    0.0,\n",
       "    1.0,\n",
       "    4.0,\n",
       "    4.0,\n",
       "    28.0,\n",
       "    55.0,\n",
       "    103.0,\n",
       "    179.0,\n",
       "    349.0,\n",
       "    480.0,\n",
       "    621.0,\n",
       "    941.0,\n",
       "    1391.0,\n",
       "    1923.0,\n",
       "    2546.0,\n",
       "    3169.0,\n",
       "    3890.0,\n",
       "    4683.0,\n",
       "    5330.0,\n",
       "    5763.0,\n",
       "    6107.0,\n",
       "    6688.0,\n",
       "    7085.0,\n",
       "    7535.0,\n",
       "    8247.0,\n",
       "    9294.0,\n",
       "    10282.0,\n",
       "    11647.0,\n",
       "    12418.0,\n",
       "    12330.0,\n",
       "    10984.0,\n",
       "    9216.0,\n",
       "    7341.0,\n",
       "    5338.0,\n",
       "    3819.0,\n",
       "    2650.0,\n",
       "    1980.0,\n",
       "    1337.0,\n",
       "    959.0,\n",
       "    721.0,\n",
       "    511.0,\n",
       "    366.0,\n",
       "    270.0,\n",
       "    202.0,\n",
       "    128.0,\n",
       "    98.0,\n",
       "    56.0,\n",
       "    51.0,\n",
       "    31.0,\n",
       "    20.0,\n",
       "    17.0,\n",
       "    9.0,\n",
       "    4.0,\n",
       "    6.0,\n",
       "    0.0,\n",
       "    3.0,\n",
       "    0.0,\n",
       "    0.0,\n",
       "    0.0,\n",
       "    0.0,\n",
       "    0.0,\n",
       "    0.0,\n",
       "    0.0,\n",
       "    0.0,\n",
       "    0.0,\n",
       "    0.0,\n",
       "    0.0,\n",
       "    0.0,\n",
       "    0.0,\n",
       "    0.0,\n",
       "    0.0,\n",
       "    0.0,\n",
       "    0.0,\n",
       "    0.0,\n",
       "    0.0,\n",
       "    0.0,\n",
       "    0.0,\n",
       "    0.0,\n",
       "    0.0,\n",
       "    0.0,\n",
       "    0.0,\n",
       "    0.0,\n",
       "    0.0,\n",
       "    0.0,\n",
       "    0.0,\n",
       "    0.0,\n",
       "    0.0,\n",
       "    0.0,\n",
       "    0.0,\n",
       "    0.0,\n",
       "    0.0,\n",
       "    0.0],\n",
       "   'values:type': 'Count'},\n",
       "  'entries': 169210.0,\n",
       "  'name': 'jetAK4_N > 0',\n",
       "  'sub:type': 'Bin'},\n",
       " 'type': 'Select',\n",
       " 'version': '1.0'}"
      ]
     },
     "execution_count": 10,
     "metadata": {},
     "output_type": "execute_result"
    }
   ],
   "source": [
    "histogram.toJson()"
   ]
  },
  {
   "cell_type": "markdown",
   "metadata": {},
   "source": [
    "Now to explain that \"`lambda x: x`\" in the histogram definition: although you _can_ use Histogrammar the same way you would use ROOT, it's intended to be used differently.\n",
    "\n",
    "Instead of making histograms that don't know what they're going to be filled with, and then passing the right thing into their `fill()` functions, we should declare what a histogram is going to be filled with when it's created. This is called a fill rule.\n",
    "\n",
    "In the example below, we define a histogram in two nested pieces:\n",
    "\n",
    "   * `Select` only lets some events through, according to the rule \"`event.jetAK4_N > 0`\"\n",
    "   * `Bin` is a 1D histogram, filled with \"`event.jetAK4_pt[0]`\".\n",
    "\n",
    "Now all the analysis-specific information is in the histogram definition, right next to the bin-space definitions, and the `for` loop just calls `fill(event)`."
   ]
  },
  {
   "cell_type": "code",
   "execution_count": 11,
   "metadata": {
    "collapsed": false
   },
   "outputs": [
    {
     "name": "stdout",
     "output_type": "stream",
     "text": [
      "This took 27.5738108158 seconds.\n"
     ]
    },
    {
     "data": {
      "image/png": "[encoded data removed]",
      "text/plain": [
       "<IPython.core.display.Image object>"
      ]
     },
     "metadata": {},
     "output_type": "display_data"
    }
   ],
   "source": [
    "histogram = Select(lambda event: event.jetAK4_N > 0, Bin(100, 0, 1000, lambda event: event.jetAK4_pt[0]))\n",
    "\n",
    "startTime = time.time()\n",
    "for event in tchain:\n",
    "    histogram.fill(event)\n",
    "endTime = time.time()\n",
    "\n",
    "print \"This took\", endTime - startTime, \"seconds.\"\n",
    "\n",
    "roothist3 = histogram.plot.root(\"roothist3\", \"pt\")\n",
    "roothist3.Draw()\n",
    "tcanvas.Draw()"
   ]
  },
  {
   "cell_type": "markdown",
   "metadata": {},
   "source": [
    "But, as I'm sure you're painfully aware, it takes close to 30 seconds each time you run through the events!\n",
    "\n",
    "In addition to having different plotting front-ends, Histogrammar has different filling back-ends. We've been using generic Python filling, but if we replace the lambda functions with strings and fill with\n",
    "\n",
    "```\n",
    "histogram.fill.root(tchain)\n",
    "```\n",
    "\n",
    "then Histogrammar takes over the `for` loop and compiles it in C++. The strings are interpreted as C++ code, but they're short enough snippets that it's no problem to write.\n",
    "\n",
    "The upshot is that exactly the same data can be aggregated 14 times faster."
   ]
  },
  {
   "cell_type": "code",
   "execution_count": 9,
   "metadata": {
    "collapsed": false
   },
   "outputs": [
    {
     "name": "stdout",
     "output_type": "stream",
     "text": [
      "This took 1.87890481949 seconds.\n"
     ]
    },
    {
     "data": {
      "image/png": "[encoded data removed]",
      "text/plain": [
       "<IPython.core.display.Image object>"
      ]
     },
     "metadata": {},
     "output_type": "display_data"
    }
   ],
   "source": [
    "histogram = Select(\"jetAK4_N > 0\", Bin(100, 0, 1000, \"jetAK4_pt[0]\"))\n",
    "\n",
    "startTime = time.time()\n",
    "histogram.fill.root(tchain)\n",
    "endTime = time.time()\n",
    "\n",
    "print \"This took\", endTime - startTime, \"seconds.\"\n",
    "\n",
    "roothist2 = histogram.plot.root(\"roothist2\", \"pt\")\n",
    "roothist2.Draw()\n",
    "tcanvas.Draw()"
   ]
  },
  {
   "cell_type": "markdown",
   "metadata": {},
   "source": [
    "This is within a factor of 4 of the speed you could achieve with `TTree::Draw`, but as we'll see below, Histogrammar is more versitile than `TTree::Draw`."
   ]
  },
  {
   "cell_type": "code",
   "execution_count": 14,
   "metadata": {
    "collapsed": false
   },
   "outputs": [
    {
     "name": "stdout",
     "output_type": "stream",
     "text": [
      "This took 0.515255212784 seconds.\n"
     ]
    },
    {
     "data": {
      "image/png": "[encoded data removed]",
      "text/plain": [
       "<IPython.core.display.Image object>"
      ]
     },
     "metadata": {},
     "output_type": "display_data"
    }
   ],
   "source": [
    "roothist5 = ROOT.TH1D(\"roothist5\", \"pt\", 100, 0, 1000)\n",
    "\n",
    "startTime = time.time()\n",
    "tchain.Draw(\"jetAK4_pt[0] >> roothist5\")\n",
    "endTime = time.time()\n",
    "\n",
    "print \"This took\", endTime - startTime, \"seconds.\"\n",
    "tcanvas.Draw()"
   ]
  },
  {
   "cell_type": "markdown",
   "metadata": {},
   "source": [
    "# A complex example\n",
    "\n",
    "John's code did more than just dump the TTree data into plots. It took two jets, computed the dijet mass, and boosted one of them to view an angle in the dijet Lorentz frame.\n",
    "\n",
    "For a proper comparison, let's reproduce John's example in Python (no MakeClass)."
   ]
  },
  {
   "cell_type": "code",
   "execution_count": 4,
   "metadata": {
    "collapsed": true
   },
   "outputs": [],
   "source": [
    "tchain.SetBranchStatus(\"*\", 0)\n",
    "for branch in [\"jetAK4_N\",\n",
    "               \"jetAK4_pt\",\n",
    "               \"jetAK4_eta\",\n",
    "               \"jetAK4_mass\",\n",
    "               \"jetAK4_phi\",\n",
    "               \"jetAK4_e\",\n",
    "               \"jetAK4_jec\",\n",
    "               \"jetAK4_IDLoose\"]:\n",
    "    tchain.SetBranchStatus(branch, 1)"
   ]
  },
  {
   "cell_type": "markdown",
   "metadata": {},
   "source": [
    "Below, we define three histograms (the ROOT way), create TLorentzVector objects outside the loop, and then do a Python `for` loop in which we compute dijets, boost the leading jet, and fill the histograms with some ratios."
   ]
  },
  {
   "cell_type": "code",
   "execution_count": 5,
   "metadata": {
    "collapsed": false
   },
   "outputs": [
    {
     "name": "stdout",
     "output_type": "stream",
     "text": [
      "This took 21.2750182152 seconds.\n"
     ]
    }
   ],
   "source": [
    "dijetMass_hist = ROOT.TH1D(\"dijetMass_hist\", \"dijet mass [GeV]\", 100, 0, 1000)\n",
    "dijetEtBalance_hist = ROOT.TH1D(\"dijetEtBalance_hist\", \"dijet ET balance\", 100, 0, 1)\n",
    "cosThetaStar_hist = ROOT.TH1D(\"cosThetaStar_hist\", \"cos(theta*)\", 100, -1, 1)\n",
    "\n",
    "leadingJet = ROOT.TLorentzVector()\n",
    "subleadingJet = ROOT.TLorentzVector()\n",
    "\n",
    "startTime = time.time()\n",
    "for event in tchain:\n",
    "    if event.jetAK4_N < 2:\n",
    "        continue\n",
    "    \n",
    "    leadingJet.SetPtEtaPhiE(event.jetAK4_pt.at(0),\n",
    "                            event.jetAK4_eta.at(0),\n",
    "                            event.jetAK4_phi.at(0),\n",
    "                            event.jetAK4_e.at(0))\n",
    "    \n",
    "    subleadingJet.SetPtEtaPhiE(event.jetAK4_pt.at(1),\n",
    "                               event.jetAK4_eta.at(1),\n",
    "                               event.jetAK4_phi.at(1),\n",
    "                               event.jetAK4_e.at(1))\n",
    "    \n",
    "    dijet = leadingJet + subleadingJet\n",
    "\n",
    "    boostedLeadingJet = leadingJet\n",
    "    boostedLeadingJet.Boost(-dijet.BoostVector())\n",
    "    \n",
    "    dijetMass_hist.Fill(dijet.M())\n",
    "    dijetEtBalance_hist.Fill(subleadingJet.Et() / leadingJet.Et())\n",
    "    cosThetaStar_hist.Fill(boostedLeadingJet.Pz() / boostedLeadingJet.P())\n",
    "\n",
    "endTime = time.time()\n",
    "\n",
    "print \"This took\", endTime - startTime, \"seconds.\""
   ]
  },
  {
   "cell_type": "markdown",
   "metadata": {},
   "source": [
    "They look nice."
   ]
  },
  {
   "cell_type": "code",
   "execution_count": 6,
   "metadata": {
    "collapsed": false
   },
   "outputs": [
    {
     "data": {
      "image/png": "[encoded data removed]",
      "text/plain": [
       "<IPython.core.display.Image object>"
      ]
     },
     "metadata": {},
     "output_type": "display_data"
    }
   ],
   "source": [
    "tcanvas.Clear()\n",
    "tcanvas.Divide(3, 1)\n",
    "\n",
    "tcanvas.cd(1); dijetMass_hist.Draw()\n",
    "tcanvas.cd(2); dijetEtBalance_hist.Draw()\n",
    "tcanvas.cd(3); cosThetaStar_hist.Draw()\n",
    "tcanvas.Draw()"
   ]
  },
  {
   "cell_type": "markdown",
   "metadata": {},
   "source": [
    "Now we do the same in Histogrammar (pure Python). We can bundle three histograms into a single histogram-like object with a single `fill()` method. This is where the fill-rules are showing a conceptual advantage: they keep the complete histogram definitions in one place, so that you can carry around the whole bundle and fill it generically in the loop.\n",
    "\n",
    "All three histograms' fill rules operate on `[leadingJet, subleadingJet]` pairs."
   ]
  },
  {
   "cell_type": "code",
   "execution_count": 7,
   "metadata": {
    "collapsed": false
   },
   "outputs": [
    {
     "name": "stdout",
     "output_type": "stream",
     "text": [
      "This took 34.4799318314 seconds.\n"
     ]
    }
   ],
   "source": [
    "Bundle = UntypedLabel    # a naming convention we'll be changing to in Histogrammar 2.0\n",
    "\n",
    "def cosThetaStar(jets):\n",
    "    boostedLeading = jets[0]\n",
    "    boostedLeading.Boost(-(jets[0] + jets[1]).BoostVector())\n",
    "    return boostedLeading.Pz() / boostedLeading.P()\n",
    "\n",
    "histograms = Bundle(\n",
    "    dijetMass      = Bin(100, 0, 1000, lambda jets: (jets[0] + jets[1]).M()),\n",
    "    dijetEtBalance = Bin(100, 0, 1, lambda jets: jets[1].Et() / jets[0].Et()),\n",
    "    cosThetaStar   = Bin(100, -1, 1, cosThetaStar))\n",
    "\n",
    "leadingJet = ROOT.TLorentzVector()\n",
    "subleadingJet = ROOT.TLorentzVector()\n",
    "\n",
    "startTime = time.time()\n",
    "for event in tchain:\n",
    "    if event.jetAK4_N < 2:\n",
    "        continue\n",
    "    \n",
    "    leadingJet.SetPtEtaPhiE(event.jetAK4_pt.at(0),\n",
    "                            event.jetAK4_eta.at(0),\n",
    "                            event.jetAK4_phi.at(0),\n",
    "                            event.jetAK4_e.at(0))\n",
    "    \n",
    "    subleadingJet.SetPtEtaPhiE(event.jetAK4_pt.at(1),\n",
    "                               event.jetAK4_eta.at(1),\n",
    "                               event.jetAK4_phi.at(1),\n",
    "                               event.jetAK4_e.at(1))\n",
    "    \n",
    "    histograms.fill([leadingJet, subleadingJet])\n",
    "\n",
    "endTime = time.time()\n",
    "\n",
    "print \"This took\", endTime - startTime, \"seconds.\""
   ]
  },
  {
   "cell_type": "markdown",
   "metadata": {},
   "source": [
    "But that's slow. It's even slower than the PyROOT example because _no_ parts of the histogram-filling were in compiled code. It had to navigate the bundle and each histogram's binning in pure Python.\n",
    "\n",
    "Before moving on, let's make sure we see the same plots."
   ]
  },
  {
   "cell_type": "code",
   "execution_count": 8,
   "metadata": {
    "collapsed": false
   },
   "outputs": [
    {
     "data": {
      "image/png": "[encoded data removed]",
      "text/plain": [
       "<IPython.core.display.Image object>"
      ]
     },
     "metadata": {},
     "output_type": "display_data"
    }
   ],
   "source": [
    "dijetMass_hist2      = histograms.get(\"dijetMass\").plot.root(\"dijetMass_hist2\", \"dijet mass [GeV]\")\n",
    "dijetEtBalance_hist2 = histograms.get(\"dijetEtBalance\").plot.root(\"dijetEtBalance_hist2\", \"dijet ET balance\")\n",
    "cosThetaStar_hist2   = histograms.get(\"cosThetaStar\").plot.root(\"cosThetaStar_hist2\", \"cos(theta*)\")\n",
    "\n",
    "tcanvas.Clear()\n",
    "tcanvas.Divide(3, 1)\n",
    "\n",
    "tcanvas.cd(1); dijetMass_hist2.Draw()\n",
    "tcanvas.cd(2); dijetEtBalance_hist2.Draw()\n",
    "tcanvas.cd(3); cosThetaStar_hist2.Draw()\n",
    "tcanvas.Draw()"
   ]
  },
  {
   "cell_type": "markdown",
   "metadata": {},
   "source": [
    "Yup, we do.\n",
    "\n",
    "Okay, now to do a compiled version of the Histogrammar example. The tricky thing is that the operations we want to perform are too complicated for simple expressions, so we'll need some helper functions.\n",
    "\n",
    "Since the code in quoted fill rules are C++, they need to be C++ functions. Fortunately, ROOT lets us define C++ functions from Python: use `ROOT.gInterpreter.Declare`."
   ]
  },
  {
   "cell_type": "code",
   "execution_count": 9,
   "metadata": {
    "collapsed": false
   },
   "outputs": [
    {
     "data": {
      "text/plain": [
       "True"
      ]
     },
     "execution_count": 9,
     "metadata": {},
     "output_type": "execute_result"
    }
   ],
   "source": [
    "# yes, we're creating new TLorentzVectors, but on the stack, which is faster than allocation with \"new\"\n",
    "ROOT.gInterpreter.Declare(\"\"\"\n",
    "TLorentzVector lorentzVector(int i, vector<float>& pt, vector<float>& eta, vector<float>& phi, vector<float>& e) {\n",
    "    TLorentzVector out;\n",
    "    out.SetPtEtaPhiE(pt.at(i), eta.at(i), phi.at(i), e.at(i));\n",
    "    return out;\n",
    "}\n",
    "\"\"\")\n",
    "\n",
    "ROOT.gInterpreter.Declare(\"\"\"\n",
    "double cosThetaStar(TLorentzVector leadingJet, TLorentzVector subleadingJet) {\n",
    "    leadingJet.Boost(-(leadingJet + subleadingJet).BoostVector());\n",
    "    return leadingJet.Pz() / leadingJet.P();\n",
    "}\n",
    "\"\"\")"
   ]
  },
  {
   "cell_type": "markdown",
   "metadata": {},
   "source": [
    "The variables available to the Histogrammar fill rules are the fields of the TTree, so this is what we have to pass in to our new `lorentzVector` function. We use C++ tricks (passing by reference with \"`&`\") to avoid unnecessary copies.\n",
    "\n",
    "We're not freed from having to know C++ details, but we can put all of this together more quickly by not having to create and compile external files.\n",
    "\n",
    "Here's what the accelerated Histogrammar code looks like. I'd argue that this is more concise and easier to read than even the PyROOT version."
   ]
  },
  {
   "cell_type": "code",
   "execution_count": 10,
   "metadata": {
    "collapsed": false
   },
   "outputs": [
    {
     "name": "stdout",
     "output_type": "stream",
     "text": [
      "This took 1.86146497726 seconds (including compilation).\n"
     ]
    }
   ],
   "source": [
    "histograms = Select(\"jetAK4_N >= 2\", Bundle(\n",
    "    dijetMass = Bin(100, 0, 1000, \"\"\"\n",
    "        (lorentzVector(0, jetAK4_pt, jetAK4_eta, jetAK4_phi, jetAK4_e) +\n",
    "         lorentzVector(1, jetAK4_pt, jetAK4_eta, jetAK4_phi, jetAK4_e)\n",
    "        ).M()\n",
    "    \"\"\"),\n",
    "    dijetEtBalance = Bin(100, 0, 1, \"\"\"\n",
    "        lorentzVector(1, jetAK4_pt, jetAK4_eta, jetAK4_phi, jetAK4_e).Et() /\n",
    "        lorentzVector(0, jetAK4_pt, jetAK4_eta, jetAK4_phi, jetAK4_e).Et()\n",
    "    \"\"\"),\n",
    "    cosThetaStar   = Bin(100, -1, 1, \"\"\"cosThetaStar(\n",
    "        lorentzVector(0, jetAK4_pt, jetAK4_eta, jetAK4_phi, jetAK4_e),\n",
    "        lorentzVector(1, jetAK4_pt, jetAK4_eta, jetAK4_phi, jetAK4_e))\"\"\")\n",
    "))\n",
    "\n",
    "startTime = time.time()\n",
    "histograms.fill.root(tchain)\n",
    "endTime = time.time()\n",
    "\n",
    "print \"This took\", endTime - startTime, \"seconds (including compilation).\""
   ]
  },
  {
   "cell_type": "markdown",
   "metadata": {},
   "source": [
    "And it's fast! 11.4 times faster than the PyROOT version and 18.5 times faster than the pure Python Histogrammar version. We get the same plots:"
   ]
  },
  {
   "cell_type": "code",
   "execution_count": 11,
   "metadata": {
    "collapsed": false
   },
   "outputs": [
    {
     "data": {
      "image/png": "[encoded data removed]",
      "text/plain": [
       "<IPython.core.display.Image object>"
      ]
     },
     "metadata": {},
     "output_type": "display_data"
    }
   ],
   "source": [
    "dijetMass_hist3      = histograms.get(\"dijetMass\").plot.root(\"dijetMass_hist3\", \"dijet mass [GeV]\")\n",
    "dijetEtBalance_hist3 = histograms.get(\"dijetEtBalance\").plot.root(\"dijetEtBalance_hist3\", \"dijet ET balance\")\n",
    "cosThetaStar_hist3   = histograms.get(\"cosThetaStar\").plot.root(\"cosThetaStar_hist3\", \"cos(theta*)\")\n",
    "\n",
    "tcanvas.Clear()\n",
    "tcanvas.Divide(3, 1)\n",
    "\n",
    "tcanvas.cd(1); dijetMass_hist.Draw()\n",
    "tcanvas.cd(2); dijetEtBalance_hist.Draw()\n",
    "tcanvas.cd(3); cosThetaStar_hist.Draw()\n",
    "tcanvas.Draw()"
   ]
  },
  {
   "cell_type": "markdown",
   "metadata": {},
   "source": [
    "In fact, if we were to write a pure C++ ROOT macro that does the same thing, it's only 20% faster. (And it's not due to any of the seemingly obvious things, like the fact that the Histogrammar example above generates new `TLorentzVectors` for each histogram-fill: that stuff actually doesn't matter much if you avoid heap-allocation.)\n",
    "\n",
    "With such a marginal gain, there's not much advantage to translating a script from Python to ROOT."
   ]
  },
  {
   "cell_type": "code",
   "execution_count": 12,
   "metadata": {
    "collapsed": false
   },
   "outputs": [
    {
     "name": "stdout",
     "output_type": "stream",
     "text": [
      "\u001b[0mroot [0] \r\n",
      "Processing rootmacro.C++...\r\n",
      "\u001b[0mInfo in <TUnixSystem::ACLiC>: creating shared library /uscms_data/d2/pivarski/CMSSW_9_0_1/src/scientific-python-hats/histogrammar/./rootmacro_C.so\r\n",
      "This took 1.56078 seconds.\r\n"
     ]
    }
   ],
   "source": [
    "!root -l rootmacro.C++"
   ]
  },
  {
   "cell_type": "markdown",
   "metadata": {
    "collapsed": true
   },
   "source": [
    "This concludes the introduction to Histogrammar and how it can speed up your PyROOT scripts.\n",
    "\n",
    "In the next tutorial, after the break, I'll expand on the motivation: _why_ organize the histogram API with fill rules? What was that nesting of `Select` and `Bin` all about?\n",
    "\n",
    "Histogrammar was designed to bring histogram-filling into the functional programming paradigm, which is the way many data analysis tools are headed because it leads the way to automatic parallelization."
   ]
  },
  {
   "cell_type": "code",
   "execution_count": null,
   "metadata": {
    "collapsed": true
   },
   "outputs": [],
   "source": []
  }
 ],
 "metadata": {
  "kernelspec": {
   "display_name": "Python 2",
   "language": "python",
   "name": "python2"
  },
  "language_info": {
   "codemirror_mode": {
    "name": "ipython",
    "version": 2
   },
   "file_extension": ".py",
   "mimetype": "text/x-python",
   "name": "python",
   "nbconvert_exporter": "python",
   "pygments_lexer": "ipython2",
   "version": "2.7.6"
  }
 },
 "nbformat": 4,
 "nbformat_minor": 1
}
